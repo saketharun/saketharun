{
  "nbformat": 4,
  "nbformat_minor": 0,
  "metadata": {
    "colab": {
      "provenance": [],
      "authorship_tag": "ABX9TyNvdYd+7Tx/5Nx+pNIVufjH",
      "include_colab_link": true
    },
    "kernelspec": {
      "name": "python3",
      "display_name": "Python 3"
    },
    "language_info": {
      "name": "python"
    }
  },
  "cells": [
    {
      "cell_type": "markdown",
      "metadata": {
        "id": "view-in-github",
        "colab_type": "text"
      },
      "source": [
        "<a href=\"https://colab.research.google.com/github/saketharun/saketharun/blob/main/python%20operators%202.ipynb\" target=\"_parent\"><img src=\"https://colab.research.google.com/assets/colab-badge.svg\" alt=\"Open In Colab\"/></a>"
      ]
    },
    {
      "cell_type": "markdown",
      "source": [
        "     3. COMPARISION OPERATORS:\n",
        "   \n",
        "\n",
        "      Comparision operators compare two values or variables and return a boolean result.\n",
        "\n",
        "\n",
        "       EQUAL TO OPERATOR:"
      ],
      "metadata": {
        "id": "eJlM4zqkxByb"
      }
    },
    {
      "cell_type": "code",
      "source": [
        "a=5\n",
        "b=5\n",
        "c= \"string\"\n",
        "d= \"string\"\n",
        "e=22.5\n",
        "f=22.5\n",
        "g=\"name\"\n",
        "h=\"name\"\n",
        "\n",
        "print(a==b)\n",
        "print(b==g)\n",
        "print(f==e)\n",
        "print(c==f)\n",
        "print(c==d)\n"
      ],
      "metadata": {
        "colab": {
          "base_uri": "https://localhost:8080/"
        },
        "id": "MAUT9qqxxubS",
        "outputId": "c11c6d56-fab4-4daa-dfbc-ecf04d394ff5"
      },
      "execution_count": 1,
      "outputs": [
        {
          "output_type": "stream",
          "name": "stdout",
          "text": [
            "True\n",
            "False\n",
            "True\n",
            "False\n",
            "True\n"
          ]
        }
      ]
    },
    {
      "cell_type": "markdown",
      "source": [
        "NOT EQUAL TO OPERATOR:"
      ],
      "metadata": {
        "id": "g8s6dzyJytOb"
      }
    },
    {
      "cell_type": "code",
      "source": [
        "a=10\n",
        "b=22\n",
        "c=99\n",
        "d=28\n",
        "e=65\n",
        "f=10\n",
        "g=22\n",
        "\n",
        "print(a!=b)\n",
        "print(c!=f)\n",
        "print(e!=c)\n",
        "print(b!=g)\n",
        "print(d!=a)"
      ],
      "metadata": {
        "colab": {
          "base_uri": "https://localhost:8080/"
        },
        "id": "mCsINDMVy0Pu",
        "outputId": "19e7d3c0-d732-4917-9c5a-b066b075a0b6"
      },
      "execution_count": 2,
      "outputs": [
        {
          "output_type": "stream",
          "name": "stdout",
          "text": [
            "True\n",
            "True\n",
            "True\n",
            "False\n",
            "True\n"
          ]
        }
      ]
    },
    {
      "cell_type": "markdown",
      "source": [
        "GREATER THAN OPERATOR:"
      ],
      "metadata": {
        "id": "YZdbHFxRzday"
      }
    },
    {
      "cell_type": "code",
      "source": [
        "a=10\n",
        "b=22\n",
        "c=99\n",
        "d=28\n",
        "e=65\n",
        "\n",
        "print(a>b)\n",
        "print(c>b)\n",
        "print(e>d)\n",
        "print(b>c)\n",
        "print(d>a)"
      ],
      "metadata": {
        "colab": {
          "base_uri": "https://localhost:8080/"
        },
        "id": "eX5wdgRczorl",
        "outputId": "829b15f4-8320-4183-d8e3-1b46182b3d5b"
      },
      "execution_count": 3,
      "outputs": [
        {
          "output_type": "stream",
          "name": "stdout",
          "text": [
            "False\n",
            "True\n",
            "True\n",
            "False\n",
            "True\n"
          ]
        }
      ]
    },
    {
      "cell_type": "markdown",
      "source": [
        "LESS THAN OPERATOR:"
      ],
      "metadata": {
        "id": "1TM9dkl50ELO"
      }
    },
    {
      "cell_type": "code",
      "source": [
        "a=10\n",
        "b=22\n",
        "c=99\n",
        "d=28\n",
        "e=65\n",
        "\n",
        "print(a<b)\n",
        "print(c<d)\n",
        "print(e<d)\n",
        "print(b<c)\n",
        "print(d<a)"
      ],
      "metadata": {
        "colab": {
          "base_uri": "https://localhost:8080/"
        },
        "id": "02sMT-5F0HwC",
        "outputId": "f4463a97-becb-43eb-8122-79b52648c1ce"
      },
      "execution_count": 4,
      "outputs": [
        {
          "output_type": "stream",
          "name": "stdout",
          "text": [
            "True\n",
            "False\n",
            "False\n",
            "True\n",
            "False\n"
          ]
        }
      ]
    },
    {
      "cell_type": "markdown",
      "source": [
        "Greater than or equal to operator:"
      ],
      "metadata": {
        "id": "KCQ04HHI0lbF"
      }
    },
    {
      "cell_type": "code",
      "source": [
        "a=10\n",
        "b=22\n",
        "c=99\n",
        "d=28\n",
        "e=65\n",
        "\n",
        "print(a>=b)\n",
        "print(c>=d)\n",
        "print(e>=c)\n",
        "print(b>=a)\n",
        "print(d>=a)"
      ],
      "metadata": {
        "id": "gbirlunr0xfS",
        "outputId": "879bb17b-895d-4c17-f48b-366f6a71c9ba",
        "colab": {
          "base_uri": "https://localhost:8080/"
        }
      },
      "execution_count": 5,
      "outputs": [
        {
          "output_type": "stream",
          "name": "stdout",
          "text": [
            "False\n",
            "True\n",
            "False\n",
            "True\n",
            "True\n"
          ]
        }
      ]
    },
    {
      "cell_type": "markdown",
      "source": [
        "Less than or equal to operator:"
      ],
      "metadata": {
        "id": "vs5d-qpv1RUj"
      }
    },
    {
      "cell_type": "code",
      "source": [
        "a=10\n",
        "b=22\n",
        "c=99\n",
        "d=28\n",
        "e=65\n",
        "\n",
        "print(a<=b)\n",
        "print(c<=d)\n",
        "print(e<=c)\n",
        "print(b<=a)\n",
        "print(d<=a)"
      ],
      "metadata": {
        "id": "bxOwlvpS1Yqi",
        "outputId": "10171672-8c76-476a-e9ce-9a70a3600989",
        "colab": {
          "base_uri": "https://localhost:8080/"
        }
      },
      "execution_count": 6,
      "outputs": [
        {
          "output_type": "stream",
          "name": "stdout",
          "text": [
            "True\n",
            "False\n",
            "True\n",
            "False\n",
            "False\n"
          ]
        }
      ]
    },
    {
      "cell_type": "markdown",
      "source": [
        "     4. LOGICAL OPERATOR:\n",
        "\n",
        "  Logical operators are used to check whether an expression is True or False.\n",
        "\n",
        "  And operator:\n",
        "\n",
        "      Returns true if both the ends are true.  "
      ],
      "metadata": {
        "id": "loS7Twyd13v0"
      }
    },
    {
      "cell_type": "code",
      "source": [
        "print(5>3 and 15>5)\n",
        "print(5>3 and 5>51)\n",
        "print(5==3 and 15!=5)\n",
        "print(10==10 and 15>5)\n",
        "print(50>35 and 15<95)"
      ],
      "metadata": {
        "id": "9NG44FaG2f-M",
        "outputId": "3a3ea2aa-c32d-4225-a7b7-251ea4345a25",
        "colab": {
          "base_uri": "https://localhost:8080/"
        }
      },
      "execution_count": 7,
      "outputs": [
        {
          "output_type": "stream",
          "name": "stdout",
          "text": [
            "True\n",
            "False\n",
            "False\n",
            "True\n",
            "True\n"
          ]
        }
      ]
    },
    {
      "cell_type": "markdown",
      "source": [
        "      OR OPERATOR:\n",
        "\n",
        "\n",
        "      Returns true if either of the operands is true"
      ],
      "metadata": {
        "id": "e_lxlydh3YlT"
      }
    },
    {
      "cell_type": "code",
      "source": [
        "print(5>3 or 15>5)\n",
        "print(5==3 or 5>51)\n",
        "print(5==3 or 15!=5)\n",
        "print(10==10 or 15>5)\n",
        "print(50<35 or 15>95)"
      ],
      "metadata": {
        "id": "ngmUycJu32gs",
        "outputId": "f9c2dfc8-6453-4c9a-8313-24ec22e1a962",
        "colab": {
          "base_uri": "https://localhost:8080/"
        }
      },
      "execution_count": 8,
      "outputs": [
        {
          "output_type": "stream",
          "name": "stdout",
          "text": [
            "True\n",
            "False\n",
            "True\n",
            "True\n",
            "False\n"
          ]
        }
      ]
    },
    {
      "cell_type": "markdown",
      "source": [
        "      NOT OPERATOR:\n",
        "\n",
        "  Returns true if the operand is false."
      ],
      "metadata": {
        "id": "vrTEuXXW5HYB"
      }
    },
    {
      "cell_type": "code",
      "source": [
        "print(not(5>3 and 15>5))\n",
        "print(not(5==3 or 5>51))\n",
        "print(not(5==3 and 15!=5))\n",
        "print(not(10==10 or 15>5))\n",
        "print(not(50<35 and 15>95))\n",
        "print(not(5+3==8))"
      ],
      "metadata": {
        "id": "7xSeJcGC5XCS",
        "outputId": "eba39017-97db-465a-b869-74f96aa4134b",
        "colab": {
          "base_uri": "https://localhost:8080/"
        }
      },
      "execution_count": 9,
      "outputs": [
        {
          "output_type": "stream",
          "name": "stdout",
          "text": [
            "False\n",
            "True\n",
            "True\n",
            "False\n",
            "True\n",
            "False\n"
          ]
        }
      ]
    },
    {
      "cell_type": "markdown",
      "source": [
        "    5. IDENTIFY OPERATORS:\n",
        "\n",
        "     Identify whether the value is present or not.s\n",
        "\n",
        "     is Operator:\n",
        "\n",
        "     Returns true if the operands are identical."
      ],
      "metadata": {
        "id": "sbHZGS1_6SBT"
      }
    },
    {
      "cell_type": "code",
      "source": [
        "a=5\n",
        "b=5\n",
        "c=\"NAME\"\n",
        "d=\"name\"\n",
        "e=12.5\n",
        "f=\"name\"\n",
        "g=12.5\n",
        "\n",
        "print(a is b)\n",
        "print(c is a)\n",
        "print(c is d)\n",
        "print(d is e)\n",
        "print(d is f)\n"
      ],
      "metadata": {
        "id": "zxSEs0rM66NM",
        "outputId": "512e35b6-78e9-4703-f76c-d7c49f4b203e",
        "colab": {
          "base_uri": "https://localhost:8080/"
        }
      },
      "execution_count": 10,
      "outputs": [
        {
          "output_type": "stream",
          "name": "stdout",
          "text": [
            "True\n",
            "False\n",
            "False\n",
            "False\n",
            "True\n"
          ]
        }
      ]
    },
    {
      "cell_type": "markdown",
      "source": [
        "   IS NOT OPERATOR:\n",
        "\n",
        "     True if the operands are not identical."
      ],
      "metadata": {
        "id": "zbIfREVr8Ak8"
      }
    },
    {
      "cell_type": "code",
      "source": [
        "a=5\n",
        "b=5\n",
        "c=\"NAME\"\n",
        "d=\"name\"\n",
        "e=12.5\n",
        "f=\"name\"\n",
        "g=12.5\n",
        "\n",
        "print(a is not b)\n",
        "print(c is not a)\n",
        "print(c is not d)\n",
        "print(d is not e)\n",
        "print(d is not f)"
      ],
      "metadata": {
        "id": "Tzo4rKvK8UK_",
        "outputId": "6e80ca04-6203-45e5-8ddb-e8f03034b896",
        "colab": {
          "base_uri": "https://localhost:8080/"
        }
      },
      "execution_count": 11,
      "outputs": [
        {
          "output_type": "stream",
          "name": "stdout",
          "text": [
            "False\n",
            "True\n",
            "True\n",
            "True\n",
            "False\n"
          ]
        }
      ]
    },
    {
      "cell_type": "markdown",
      "source": [
        "  6. MEMBERSHIP OPERATOR:\n",
        "\n",
        "     They are used to test whether a value or variable is found in a sequence or not.#\n",
        "\n",
        "      In Operator:\n",
        "      \n",
        "      \n",
        "      True if value or variables is found in sequence."
      ],
      "metadata": {
        "id": "rMBoXLX19KBY"
      }
    },
    {
      "cell_type": "code",
      "source": [
        "a=\"hellow world\"\n",
        "b=[1,2,3,4,5,6,7,8,9]\n",
        "\n",
        "print(\"h\" in a)\n",
        "print(5 in b)\n",
        "print(\"w\" in b)\n",
        "print(\"3\" in a)\n",
        "print(\"r\" in a)"
      ],
      "metadata": {
        "id": "rTQSQTps_ymn",
        "outputId": "35994007-c994-4cd8-d210-031023049732",
        "colab": {
          "base_uri": "https://localhost:8080/"
        }
      },
      "execution_count": 12,
      "outputs": [
        {
          "output_type": "stream",
          "name": "stdout",
          "text": [
            "True\n",
            "True\n",
            "False\n",
            "False\n",
            "True\n"
          ]
        }
      ]
    },
    {
      "cell_type": "markdown",
      "source": [
        " NOT IN OPERATOR:\n",
        "\n",
        "\n",
        "  True if value or variable is not found in the sequence."
      ],
      "metadata": {
        "id": "zwC6io00Ajw7"
      }
    },
    {
      "cell_type": "code",
      "source": [
        "a=\"hellow world\"\n",
        "b=[1,2,3,4,5,6,7,8,9]\n",
        "\n",
        "print(\"h\" not in a)\n",
        "print(5 not in b)\n",
        "print(\"w\" not in b)\n",
        "print(\"3\" not in a)\n",
        "print(\"r\" not in a)"
      ],
      "metadata": {
        "id": "EtmWEEZ9AxAn",
        "outputId": "4b65b9b9-8638-4120-a2ff-ae159c0c3242",
        "colab": {
          "base_uri": "https://localhost:8080/"
        }
      },
      "execution_count": 13,
      "outputs": [
        {
          "output_type": "stream",
          "name": "stdout",
          "text": [
            "False\n",
            "False\n",
            "True\n",
            "True\n",
            "False\n"
          ]
        }
      ]
    },
    {
      "cell_type": "markdown",
      "source": [
        "     PRECEDENCE OPERATOR:\n",
        "          \n",
        "     Operator precedence describes the order in which operations are performed.\n",
        "\n",
        "     OPERATOR DESCRIPTION\n",
        "\n",
        "\n",
        "     () parenthesis\n",
        "     **exponentiation\n",
        "     +X-x~x unary plus, unaru minus, bitwise not\n",
        "\n",
        "     ./ // % multiplication, division, float division and modulus\n",
        "\n",
        "     . .Addition, subtraction\n",
        "     <<>> bitwise left and right shifts\n",
        "     & bitwise AND\n",
        "     ^ bitwise xor\n",
        "    | bitwise or\n",
        "\n",
        "     ==!=>>=<<= is is not in in not\n",
        "     comparision, identify and membership operator\n",
        "\n",
        "     not logical NOT\n",
        "\n",
        "     and logical AND\n",
        "\n",
        "     or logical OR\n",
        "        "
      ],
      "metadata": {
        "id": "zhyWifYEBUOr"
      }
    },
    {
      "cell_type": "code",
      "source": [
        "2+5*39*(545)+59/25**3"
      ],
      "metadata": {
        "id": "HsUlfdAxEWwF",
        "outputId": "2f6d72c3-fa06-4641-c900-c481df1f2844",
        "colab": {
          "base_uri": "https://localhost:8080/"
        }
      },
      "execution_count": 14,
      "outputs": [
        {
          "output_type": "execute_result",
          "data": {
            "text/plain": [
              "106277.003776"
            ]
          },
          "metadata": {},
          "execution_count": 14
        }
      ]
    }
  ]
}