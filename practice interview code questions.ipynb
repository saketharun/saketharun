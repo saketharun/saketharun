{
  "nbformat": 4,
  "nbformat_minor": 0,
  "metadata": {
    "colab": {
      "provenance": [],
      "authorship_tag": "ABX9TyNXz4fdLIrBOlPdPUxs8brp",
      "include_colab_link": true
    },
    "kernelspec": {
      "name": "python3",
      "display_name": "Python 3"
    },
    "language_info": {
      "name": "python"
    }
  },
  "cells": [
    {
      "cell_type": "markdown",
      "metadata": {
        "id": "view-in-github",
        "colab_type": "text"
      },
      "source": [
        "<a href=\"https://colab.research.google.com/github/saketharun/saketharun/blob/main/practice%20interview%20code%20questions.ipynb\" target=\"_parent\"><img src=\"https://colab.research.google.com/assets/colab-badge.svg\" alt=\"Open In Colab\"/></a>"
      ]
    },
    {
      "cell_type": "code",
      "execution_count": null,
      "metadata": {
        "colab": {
          "base_uri": "https://localhost:8080/"
        },
        "id": "yiH8iWzutK9-",
        "outputId": "513fc5a1-dd1e-44fc-80ac-ec483473689c"
      },
      "outputs": [
        {
          "output_type": "stream",
          "name": "stdout",
          "text": [
            "3242\n",
            "3242 Is a palindrome\n"
          ]
        }
      ],
      "source": [
        "#1. python programe to check if a string is a palindrome.          #1\n",
        "\n",
        "u=input()\n",
        "i=u[::1]\n",
        "if u==i:\n",
        "  print(u, \"Is a palindrome\")\n",
        "else:\n",
        "  print(u,\"Is not a palindrome\")\n"
      ]
    },
    {
      "cell_type": "code",
      "source": [
        "#2.  pyhton programe to find the factorial of a number             #2\n",
        "\n",
        "num= int(input(\"Enter a number:\"))\n",
        "factorial=1\n",
        "\n",
        "if num < 0:\n",
        "  print(\"sorry,factorial does not exist\")\n",
        "elif num==0:\n",
        "  print(\"The factorial of o is 1\")\n",
        "else:\n",
        "  for i in range(1,num+1):\n",
        "    factorial = factorial*i\n",
        "  print(\"The factorial of\",num,\"is\",factorial)\n",
        "\n"
      ],
      "metadata": {
        "colab": {
          "base_uri": "https://localhost:8080/"
        },
        "id": "hL_RKw-qu9_J",
        "outputId": "bc89d21c-e11a-452e-bde3-94cb15736121"
      },
      "execution_count": null,
      "outputs": [
        {
          "output_type": "stream",
          "name": "stdout",
          "text": [
            "Enter a number:1020\n",
            "The factorial of 1020 is 495711686351639193773210783935508599967193812971557935364863691944470223358915090366269100180330234872803827608284137529747334498102087842000654494331876648800970728361307682481776959128900957177413590597965794092910403488145761377098525324023508990067767282343838478050787283572604415908509119742107196724215953292313644915831489615785484391971963523405927910421017966336454320320441831824824944604996539190237346448561537427251334754639423702789262693545523800640906696657921844088370453074725139420955959541690085517931651878503605013736983188996291806658857460633101860968204750336261330581216890921602812806437160430597858190592228921009774732860666636874238518206869954266279983928306836797452763695722676124915966018053224057374434854000827889307988349781015132443520460202490973437807128104812760101378051029582024149593984550917222563537860033788954948419465281275635535343394824561576602468030624708028470876687083056603164203950869792485263483550965451414223339353827003939084759336207364260766727894105318713181959161804913544382557559700045998062604361969936978102323838300087333974768312969140441961115048063033663058761039825092514056499257657170192502971959438325685411040135578513777263193470000316441985851425551287566127029485378438864829472066821520298907903010108437381352385692634058825409866106848832544838999499099117418954232228512576242184330789412215385243664928067630035340295085042453598596137854826567891025728059139061709704358212531643359888874225371664842690400732100564143038531401141945742973890530336619949101435259868005989204537227214517455755081841433860832368437055803650428609457002876995908345026731173265171978900636091694711057211141857525237731767468722092326590290117415574889961483301643438395966522383541702596902346591484429027748357129241246476629333263030808897081675674431848666409122170179902214071667793092709919475814843614866385282764173524210243518396581118518163129579365431006199383760851055851538606747200282046835555477844371601871293165766991588699706043663382035307239695796222503869716253317136980544202168084393582378972631406356890971975046938380011411592552188039636586702614787489989555962442033187998649804283785834425443126186537941206418604554240186090531687964869568792037571195840178652923444476118701857333482210844224497186610715843056877004497795934551499384354410066065589926352687698997420312494080000000000000000000000000000000000000000000000000000000000000000000000000000000000000000000000000000000000000000000000000000000000000000000000000000000000000000000000000000000000000000000000000000000000000000000000000000000000000000000000000000000000000\n"
          ]
        }
      ]
    },
    {
      "cell_type": "code",
      "source": [
        "#4. count of vowels and consonants\n",
        "\n",
        "x=input(\"Enter the string:\")\n",
        "m=x.lower()\n",
        "vowels=[\"a\",\"e\",\"i\",\"o\",\"u\"]\n",
        "g=0\n",
        "d=0\n",
        "for i in m:\n",
        "    if i in vowels:\n",
        "      g=g+1\n",
        "    else:\n",
        "      d=d+1\n",
        "print(\"no. of vowels:\",g)\n",
        "print(\"no. of consonants\",d)"
      ],
      "metadata": {
        "colab": {
          "base_uri": "https://localhost:8080/"
        },
        "id": "dgtW8CuRLagW",
        "outputId": "e6c48959-6ff2-476f-a168-6ddf69c95a3d"
      },
      "execution_count": null,
      "outputs": [
        {
          "output_type": "stream",
          "name": "stdout",
          "text": [
            "Enter the string:1,5\n",
            "no. of vowels: 0\n",
            "no. of consonants 3\n"
          ]
        }
      ]
    },
    {
      "cell_type": "code",
      "source": [
        "#5. python program to reverse a string\n",
        "i=input()\n",
        "i=u[::-1]\n",
        "print(\"reverse:\",i)\n"
      ],
      "metadata": {
        "colab": {
          "base_uri": "https://localhost:8080/"
        },
        "id": "wLkVU6e2NP0r",
        "outputId": "f3fba9ef-eb64-4671-d726-f4288592d3e8"
      },
      "execution_count": null,
      "outputs": [
        {
          "output_type": "stream",
          "name": "stdout",
          "text": [
            "tharun\n",
            "reverse:  :sammoc yb detarapes srebmun retnE\n"
          ]
        }
      ]
    },
    {
      "cell_type": "code",
      "source": [
        "#6. python program to check if a number is prime.\n",
        "num = int(input(\"Enter a number:\"))\n",
        "if num > 1:\n",
        "  for i in range(2,num):\n",
        "    if (num%i)==0:\n",
        "      print(num,\"is not a prime number\")\n",
        "      break\n",
        "    else:\n",
        "      print(num,\"is a prime number\")\n",
        "\n",
        "else:\n",
        "  print(num,\"is not a prime number\")\n"
      ],
      "metadata": {
        "colab": {
          "base_uri": "https://localhost:8080/"
        },
        "id": "Yd2H7pW4VZIX",
        "outputId": "53b564ff-f28f-47b0-d77e-a0f7978d1234"
      },
      "execution_count": null,
      "outputs": [
        {
          "output_type": "stream",
          "name": "stdout",
          "text": [
            "Enter a number:3\n",
            "3 is a prime number\n"
          ]
        }
      ]
    },
    {
      "cell_type": "code",
      "source": [
        "#8.  program to calcute the square of a given number.\n",
        "g=int(int())\n",
        "square=g*g\n",
        "print(\"square of\",g,':',square)"
      ],
      "metadata": {
        "colab": {
          "base_uri": "https://localhost:8080/"
        },
        "id": "W8Bhn3HMXKnY",
        "outputId": "02d75524-7739-4f56-f618-0c3e879d57a7"
      },
      "execution_count": null,
      "outputs": [
        {
          "output_type": "stream",
          "name": "stdout",
          "text": [
            "square of 0 : 0\n"
          ]
        }
      ]
    },
    {
      "cell_type": "code",
      "source": [
        "#9. program to copy one string to another string\n",
        "a=input(\"Enter the string:\")\n",
        "b=a\n",
        "print(b)"
      ],
      "metadata": {
        "colab": {
          "base_uri": "https://localhost:8080/"
        },
        "id": "Cfy8N6HBX0jE",
        "outputId": "2c05810c-7e07-45f7-9544-bcb102881614"
      },
      "execution_count": null,
      "outputs": [
        {
          "output_type": "stream",
          "name": "stdout",
          "text": [
            "Enter the string:tharun\n",
            "tharun\n"
          ]
        }
      ]
    },
    {
      "cell_type": "code",
      "source": [
        "#10. program to sort characters of string in ascending order\n",
        "t=input(\"Enter the string:\")\n",
        "s=list(t)\n",
        "s.sort()\n",
        "m=''.join(s)\n",
        "print(m)"
      ],
      "metadata": {
        "colab": {
          "base_uri": "https://localhost:8080/"
        },
        "id": "R1oakBnfYzhI",
        "outputId": "a7911658-56d2-49e8-ee42-654557881cf4"
      },
      "execution_count": null,
      "outputs": [
        {
          "output_type": "stream",
          "name": "stdout",
          "text": [
            "Enter the string:hello\n",
            "ehllo\n"
          ]
        }
      ]
    },
    {
      "cell_type": "code",
      "source": [
        "#11. program to sort characters of string in descending order\n",
        "t=input(\"Enter the string:\")\n",
        "s=list(t)\n",
        "s.sort()\n",
        "m=''.join(s)\n",
        "print(m[::-1])"
      ],
      "metadata": {
        "colab": {
          "base_uri": "https://localhost:8080/"
        },
        "id": "z7WzLYi0ZzKJ",
        "outputId": "f46b97a6-e810-43c3-a80d-6f2bb7f964ff"
      },
      "execution_count": null,
      "outputs": [
        {
          "output_type": "stream",
          "name": "stdout",
          "text": [
            "Enter the string:hello\n",
            "ollhe\n"
          ]
        }
      ]
    },
    {
      "cell_type": "code",
      "source": [
        "#12. python to swap two numbers with third variables.\n",
        "a=int(input(\"Enter the value:\"))\n",
        "b=int(input(\"Enter the value:\"))\n",
        "c=a\n",
        "a=b\n",
        "b=c\n",
        "print(\"After swapping:\",a)\n",
        "print(\"After swapping\",b)\n"
      ],
      "metadata": {
        "colab": {
          "base_uri": "https://localhost:8080/"
        },
        "id": "woG4MK_5bArK",
        "outputId": "cd037fce-55d4-4b9a-bdaf-136d1c6a93eb"
      },
      "execution_count": null,
      "outputs": [
        {
          "output_type": "stream",
          "name": "stdout",
          "text": [
            "Enter the value:23\n",
            "Enter the value:13\n",
            "After swapping: 13\n",
            "After swapping 23\n"
          ]
        }
      ]
    },
    {
      "cell_type": "code",
      "source": [
        "#13. program to calcute LCM of given two numbers.\n",
        "a=int(input(\"Enter the first number\"))\n",
        "b=int(input(\"Enter the second number\"))\n",
        "if a>b:\n",
        "    big=a\n",
        "#value=big\n",
        "else:\n",
        "    big=b\n",
        "while(True):\n",
        "  if big% a==0 and big% b==0:\n",
        "    lcm=big\n",
        "    break\n",
        "  big=big+1\n",
        "  #big+=value\n",
        "print(\"LCM is :\",lcm)"
      ],
      "metadata": {
        "colab": {
          "base_uri": "https://localhost:8080/"
        },
        "id": "BpGW50RrccUm",
        "outputId": "73cd78c0-ae7c-41c1-d4ac-6ee21794e2e8"
      },
      "execution_count": null,
      "outputs": [
        {
          "output_type": "stream",
          "name": "stdout",
          "text": [
            "Enter the first number3\n",
            "Enter the second number3\n",
            "LCM is : 3\n"
          ]
        }
      ]
    },
    {
      "cell_type": "code",
      "source": [
        "#14. python program to find the maximum number in list.\n",
        "a=int(input(\"Enter the first number\"))\n",
        "b=int(input(\"Enter the second number\"))\n",
        "c=int(input(\"Enter the third number\"))\n",
        "f=[a,b,c]\n",
        "print(f)\n",
        "print(max(f))"
      ],
      "metadata": {
        "colab": {
          "base_uri": "https://localhost:8080/"
        },
        "id": "z-XA49psfsO2",
        "outputId": "bdc5230b-d3fc-493e-c011-863cb3e359a9"
      },
      "execution_count": null,
      "outputs": [
        {
          "output_type": "stream",
          "name": "stdout",
          "text": [
            "Enter the first number3\n",
            "Enter the second number9\n",
            "Enter the third number2\n",
            "[3, 9, 2]\n",
            "9\n"
          ]
        }
      ]
    },
    {
      "cell_type": "code",
      "source": [
        "#15. program to find smallest number among three\n",
        "a=int(input(\"Enter the first number\"))\n",
        "b=int(input(\"Enter the second number\"))\n",
        "c=int(input(\"Enter the third number\"))\n",
        "print(\"smallest number is:\",min(a,b,c))"
      ],
      "metadata": {
        "colab": {
          "base_uri": "https://localhost:8080/"
        },
        "id": "IN--R3YUhGUl",
        "outputId": "18b4f315-3b90-4a33-cadd-a13d00f8cd68"
      },
      "execution_count": null,
      "outputs": [
        {
          "output_type": "stream",
          "name": "stdout",
          "text": [
            "Enter the first number3\n",
            "Enter the second number9\n",
            "Enter the third number2\n",
            "smallest number is: 2\n"
          ]
        }
      ]
    },
    {
      "cell_type": "code",
      "source": [
        "#16. python program to find the maximum number in a list.\n",
        "user_input=input(\"Enter numbers separated by commas: \")\n",
        "i = [int(x) for x in user_input.split(',')]\n",
        "print(\"Minimum number:\",min(i))"
      ],
      "metadata": {
        "colab": {
          "base_uri": "https://localhost:8080/"
        },
        "id": "HjCQH7lch8rO",
        "outputId": "701a6f6f-4fb6-42d9-a5c2-a34ff0729698"
      },
      "execution_count": null,
      "outputs": [
        {
          "output_type": "stream",
          "name": "stdout",
          "text": [
            "Enter numbers separated by commas: 3\n",
            "Minimum number: 3\n"
          ]
        }
      ]
    },
    {
      "cell_type": "code",
      "source": [
        "#17. python program to find the largest element in a list.\n",
        "#let us take largest by length for string elements in a list.\n",
        "u= input(\"Enter Elements separated by commas: \")\n",
        "i= [str(x) for x in u.split(',')]\n",
        "largest=i[0]\n",
        "for x in i:\n",
        "  if len(x)>len(largest):\n",
        "    largest=x\n",
        "    print(\"largest by length for string element is:\",largest)"
      ],
      "metadata": {
        "colab": {
          "base_uri": "https://localhost:8080/"
        },
        "id": "F8559usejsL6",
        "outputId": "0de96a31-ac9c-4c7c-f572-a1bbe857b5d7"
      },
      "execution_count": null,
      "outputs": [
        {
          "name": "stdout",
          "output_type": "stream",
          "text": [
            "Enter Elements separated by commas: How_are_you\n"
          ]
        }
      ]
    },
    {
      "cell_type": "code",
      "source": [
        "#18. python program to find the smallest element in a list.\n",
        "#let us take small by length for string elements in a list.\n",
        "u= input(\"Enter Elements separated by commas: \")\n",
        "i= [str(x) for x in u.split(',')]\n",
        "smallest=i[0]\n",
        "for x in i:\n",
        "  if len(x)<len(smallest):\n",
        "    smallest=x\n",
        "    print(\"smallest by length for string element is :\",smallest)\n",
        "\n"
      ],
      "metadata": {
        "colab": {
          "base_uri": "https://localhost:8080/"
        },
        "id": "RQLljAQclZcI",
        "outputId": "5e8e9656-10e5-4250-d037-3403c2236720"
      },
      "execution_count": null,
      "outputs": [
        {
          "name": "stdout",
          "output_type": "stream",
          "text": [
            "Enter Elements separated by commas: Hi\n"
          ]
        }
      ]
    },
    {
      "cell_type": "code",
      "source": [
        "#19. python program to find the common elements between two lists.\n",
        "#static input\n",
        "a=[\"apple\",\"banana\",\"cherry\",\"guava\"]\n",
        "s=[\"papaya\",\"banana\",\"mango\",\"custard apple\"]\n",
        "b=set(a)\n",
        "c=set(s)\n",
        "z=b.intersection(c)\n",
        "#z=b&c\n",
        "print(\"common elements are :\",z)\n"
      ],
      "metadata": {
        "colab": {
          "base_uri": "https://localhost:8080/"
        },
        "id": "YAf0IaEenGUJ",
        "outputId": "90d21d2d-c56c-4452-8ba8-3f08c587783f"
      },
      "execution_count": null,
      "outputs": [
        {
          "output_type": "stream",
          "name": "stdout",
          "text": [
            "common elements are : {'banana'}\n"
          ]
        }
      ]
    },
    {
      "cell_type": "code",
      "source": [
        "#20. python program to find the common elements between two lists.\n",
        "#dynamic input\n",
        "f= input(\"Enter Elements separated by commas in List-1: \")\n",
        "r1=[str(x) for x in f.split(',')]\n",
        "q= input(\"Enter Elements separated by commas in List-2: \")\n",
        "r2= [str(x) for x in q.split(',')]\n",
        "t=set(r1)\n",
        "k=set(r2)\n",
        "w=t.intersection(k)\n",
        "#w=t&k\n",
        "print(\"common elements are:\",w)\n"
      ],
      "metadata": {
        "colab": {
          "base_uri": "https://localhost:8080/"
        },
        "id": "_v-mFPA0oygG",
        "outputId": "511e6812-c0b9-4699-af9a-d855b7c69e00"
      },
      "execution_count": null,
      "outputs": [
        {
          "output_type": "stream",
          "name": "stdout",
          "text": [
            "Enter Elements separated by commas in List-1: new delhi\n",
            "Enter Elements separated by commas in List-2: tharun\n",
            "common elements are: set()\n"
          ]
        }
      ]
    },
    {
      "cell_type": "code",
      "source": [
        "#21.python program to count the frequency of each element in a list.\n",
        "elements = [\"apple\",\"banana\",\"apple\",\"cherry\",\"banana\",\"banana\"]\n",
        "frequency = {}\n",
        "for element in elements:\n",
        "    if element in frequency:\n",
        "        frequency[element]+=1\n",
        "    else:\n",
        "        frequency[element]=1\n",
        "        print(\"Element frequencies: \",frequency)"
      ],
      "metadata": {
        "id": "I16kgiW9q5Lh",
        "colab": {
          "base_uri": "https://localhost:8080/"
        },
        "outputId": "bf601652-1d1f-4937-cf17-71c47ebc240f"
      },
      "execution_count": 4,
      "outputs": [
        {
          "output_type": "stream",
          "name": "stdout",
          "text": [
            "Element frequencies:  {'apple': 1}\n",
            "Element frequencies:  {'apple': 1, 'banana': 1}\n",
            "Element frequencies:  {'apple': 2, 'banana': 1, 'cherry': 1}\n"
          ]
        }
      ]
    },
    {
      "cell_type": "code",
      "source": [
        "#22. count the frequency of each element in a list.\n",
        "from collections import Counter\n",
        "elements = [\"apple\",\"banana\",\"apple\",\"cherry\",\"banana\",\"banana\"]\n",
        "frequency = Counter(elements)\n",
        "print(\"Element frequencies:\",frequency)"
      ],
      "metadata": {
        "colab": {
          "base_uri": "https://localhost:8080/"
        },
        "id": "5sqquCtBOFgr",
        "outputId": "1d611b3d-dddc-478d-ebbc-6bb5bc044b4f"
      },
      "execution_count": 6,
      "outputs": [
        {
          "output_type": "stream",
          "name": "stdout",
          "text": [
            "Element frequencies: Counter({'banana': 3, 'apple': 2, 'cherry': 1})\n"
          ]
        }
      ]
    },
    {
      "cell_type": "code",
      "source": [
        "#24. python program to find the second largest number in a list.\n",
        "def find_second_largest(numbers):\n",
        "   if len(list(set(numbers)))<2:\n",
        "    return None\n",
        "\n",
        "\n",
        "   list(set(numbers)).sort()\n",
        "   return unique_numbers[-2]\n",
        "\n",
        "f= input(\"Enter Elements separated by commas : \")\n",
        "numbers=[str(x) for x in f.split(',')]\n",
        "second_largest = find_second_largest(numbers)  #calling the function\n",
        "print(\"The second largest number in the list is:\", second_largest)\n"
      ],
      "metadata": {
        "colab": {
          "base_uri": "https://localhost:8080/"
        },
        "id": "aOG-fDoNZwD6",
        "outputId": "238b3b69-e9ce-4f1b-e79b-f0199613cc9d"
      },
      "execution_count": 58,
      "outputs": [
        {
          "output_type": "stream",
          "name": "stdout",
          "text": [
            "Enter Elements separated by commas : tharun\n",
            "The second largest number in the list is: None\n"
          ]
        }
      ]
    },
    {
      "cell_type": "code",
      "source": [
        "#25. program to count the number of occurances of a character in a string.\n",
        "h= input(\"Enter the string\")\n",
        "c= input(\"Enter the character to count\")\n",
        "\n",
        "if len(c) != 1:\n",
        "   print(\"please enter exactly one character.\")\n",
        "else:\n",
        "   count = h.count(c)\n",
        "   print(c, \"oocurs\",count,\"times\")"
      ],
      "metadata": {
        "colab": {
          "base_uri": "https://localhost:8080/"
        },
        "id": "R9Nw7aZWdNze",
        "outputId": "a926d295-a7b8-407d-92e4-544bde1a0791"
      },
      "execution_count": 60,
      "outputs": [
        {
          "output_type": "stream",
          "name": "stdout",
          "text": [
            "Enter the stringB\n",
            "Enter the character to countB\n",
            "B oocurs 1 times\n"
          ]
        }
      ]
    },
    {
      "cell_type": "code",
      "source": [
        "#26. prime number using functions\n",
        "def prime(k):\n",
        "  if k==0 and k==1:\n",
        "    print(k,\"is not defined.\")\n",
        "  elif  k>1:\n",
        "      for i in range(2,k):\n",
        "          if (k//i==0):\n",
        "            print(k,\"is not a prime number\")\n",
        "            break\n",
        "          else:\n",
        "            print(k,\"is a prime number\")\n",
        "      else:\n",
        "          print(k,\"is neither nor a prime number\")\n",
        "k=int(input(\"Enter the number:\"))\n",
        "prime(k)"
      ],
      "metadata": {
        "colab": {
          "base_uri": "https://localhost:8080/"
        },
        "id": "v7PTHWoce0qO",
        "outputId": "04d961ed-6d9f-46f2-d592-079a0db8388b"
      },
      "execution_count": 87,
      "outputs": [
        {
          "output_type": "stream",
          "name": "stdout",
          "text": [
            "Enter the number:239\n",
            "239 is a prime number\n",
            "239 is a prime number\n",
            "239 is a prime number\n",
            "239 is a prime number\n",
            "239 is a prime number\n",
            "239 is a prime number\n",
            "239 is a prime number\n",
            "239 is a prime number\n",
            "239 is a prime number\n",
            "239 is a prime number\n",
            "239 is a prime number\n",
            "239 is a prime number\n",
            "239 is a prime number\n",
            "239 is a prime number\n",
            "239 is a prime number\n",
            "239 is a prime number\n",
            "239 is a prime number\n",
            "239 is a prime number\n",
            "239 is a prime number\n",
            "239 is a prime number\n",
            "239 is a prime number\n",
            "239 is a prime number\n",
            "239 is a prime number\n",
            "239 is a prime number\n",
            "239 is a prime number\n",
            "239 is a prime number\n",
            "239 is a prime number\n",
            "239 is a prime number\n",
            "239 is a prime number\n",
            "239 is a prime number\n",
            "239 is a prime number\n",
            "239 is a prime number\n",
            "239 is a prime number\n",
            "239 is a prime number\n",
            "239 is a prime number\n",
            "239 is a prime number\n",
            "239 is a prime number\n",
            "239 is a prime number\n",
            "239 is a prime number\n",
            "239 is a prime number\n",
            "239 is a prime number\n",
            "239 is a prime number\n",
            "239 is a prime number\n",
            "239 is a prime number\n",
            "239 is a prime number\n",
            "239 is a prime number\n",
            "239 is a prime number\n",
            "239 is a prime number\n",
            "239 is a prime number\n",
            "239 is a prime number\n",
            "239 is a prime number\n",
            "239 is a prime number\n",
            "239 is a prime number\n",
            "239 is a prime number\n",
            "239 is a prime number\n",
            "239 is a prime number\n",
            "239 is a prime number\n",
            "239 is a prime number\n",
            "239 is a prime number\n",
            "239 is a prime number\n",
            "239 is a prime number\n",
            "239 is a prime number\n",
            "239 is a prime number\n",
            "239 is a prime number\n",
            "239 is a prime number\n",
            "239 is a prime number\n",
            "239 is a prime number\n",
            "239 is a prime number\n",
            "239 is a prime number\n",
            "239 is a prime number\n",
            "239 is a prime number\n",
            "239 is a prime number\n",
            "239 is a prime number\n",
            "239 is a prime number\n",
            "239 is a prime number\n",
            "239 is a prime number\n",
            "239 is a prime number\n",
            "239 is a prime number\n",
            "239 is a prime number\n",
            "239 is a prime number\n",
            "239 is a prime number\n",
            "239 is a prime number\n",
            "239 is a prime number\n",
            "239 is a prime number\n",
            "239 is a prime number\n",
            "239 is a prime number\n",
            "239 is a prime number\n",
            "239 is a prime number\n",
            "239 is a prime number\n",
            "239 is a prime number\n",
            "239 is a prime number\n",
            "239 is a prime number\n",
            "239 is a prime number\n",
            "239 is a prime number\n",
            "239 is a prime number\n",
            "239 is a prime number\n",
            "239 is a prime number\n",
            "239 is a prime number\n",
            "239 is a prime number\n",
            "239 is a prime number\n",
            "239 is a prime number\n",
            "239 is a prime number\n",
            "239 is a prime number\n",
            "239 is a prime number\n",
            "239 is a prime number\n",
            "239 is a prime number\n",
            "239 is a prime number\n",
            "239 is a prime number\n",
            "239 is a prime number\n",
            "239 is a prime number\n",
            "239 is a prime number\n",
            "239 is a prime number\n",
            "239 is a prime number\n",
            "239 is a prime number\n",
            "239 is a prime number\n",
            "239 is a prime number\n",
            "239 is a prime number\n",
            "239 is a prime number\n",
            "239 is a prime number\n",
            "239 is a prime number\n",
            "239 is a prime number\n",
            "239 is a prime number\n",
            "239 is a prime number\n",
            "239 is a prime number\n",
            "239 is a prime number\n",
            "239 is a prime number\n",
            "239 is a prime number\n",
            "239 is a prime number\n",
            "239 is a prime number\n",
            "239 is a prime number\n",
            "239 is a prime number\n",
            "239 is a prime number\n",
            "239 is a prime number\n",
            "239 is a prime number\n",
            "239 is a prime number\n",
            "239 is a prime number\n",
            "239 is a prime number\n",
            "239 is a prime number\n",
            "239 is a prime number\n",
            "239 is a prime number\n",
            "239 is a prime number\n",
            "239 is a prime number\n",
            "239 is a prime number\n",
            "239 is a prime number\n",
            "239 is a prime number\n",
            "239 is a prime number\n",
            "239 is a prime number\n",
            "239 is a prime number\n",
            "239 is a prime number\n",
            "239 is a prime number\n",
            "239 is a prime number\n",
            "239 is a prime number\n",
            "239 is a prime number\n",
            "239 is a prime number\n",
            "239 is a prime number\n",
            "239 is a prime number\n",
            "239 is a prime number\n",
            "239 is a prime number\n",
            "239 is a prime number\n",
            "239 is a prime number\n",
            "239 is a prime number\n",
            "239 is a prime number\n",
            "239 is a prime number\n",
            "239 is a prime number\n",
            "239 is a prime number\n",
            "239 is a prime number\n",
            "239 is a prime number\n",
            "239 is a prime number\n",
            "239 is a prime number\n",
            "239 is a prime number\n",
            "239 is a prime number\n",
            "239 is a prime number\n",
            "239 is a prime number\n",
            "239 is a prime number\n",
            "239 is a prime number\n",
            "239 is a prime number\n",
            "239 is a prime number\n",
            "239 is a prime number\n",
            "239 is a prime number\n",
            "239 is a prime number\n",
            "239 is a prime number\n",
            "239 is a prime number\n",
            "239 is a prime number\n",
            "239 is a prime number\n",
            "239 is a prime number\n",
            "239 is a prime number\n",
            "239 is a prime number\n",
            "239 is a prime number\n",
            "239 is a prime number\n",
            "239 is a prime number\n",
            "239 is a prime number\n",
            "239 is a prime number\n",
            "239 is a prime number\n",
            "239 is a prime number\n",
            "239 is a prime number\n",
            "239 is a prime number\n",
            "239 is a prime number\n",
            "239 is a prime number\n",
            "239 is a prime number\n",
            "239 is a prime number\n",
            "239 is a prime number\n",
            "239 is a prime number\n",
            "239 is a prime number\n",
            "239 is a prime number\n",
            "239 is a prime number\n",
            "239 is a prime number\n",
            "239 is a prime number\n",
            "239 is a prime number\n",
            "239 is a prime number\n",
            "239 is a prime number\n",
            "239 is a prime number\n",
            "239 is a prime number\n",
            "239 is a prime number\n",
            "239 is a prime number\n",
            "239 is a prime number\n",
            "239 is a prime number\n",
            "239 is a prime number\n",
            "239 is a prime number\n",
            "239 is a prime number\n",
            "239 is a prime number\n",
            "239 is a prime number\n",
            "239 is a prime number\n",
            "239 is a prime number\n",
            "239 is a prime number\n",
            "239 is a prime number\n",
            "239 is a prime number\n",
            "239 is a prime number\n",
            "239 is a prime number\n",
            "239 is a prime number\n",
            "239 is a prime number\n",
            "239 is a prime number\n",
            "239 is a prime number\n",
            "239 is a prime number\n",
            "239 is a prime number\n",
            "239 is a prime number\n",
            "239 is a prime number\n",
            "239 is a prime number\n",
            "239 is neither nor a prime number\n"
          ]
        }
      ]
    },
    {
      "cell_type": "code",
      "source": [
        "#27. pal indrome using functions\n",
        "def palindrome(a):\n",
        "  c=a[::-1]\n",
        "  if(c==a):\n",
        "    print(a,\"is a palindrome\")\n",
        "  else:\n",
        "    print(a,\"is not a palindrome number\")\n",
        "a=input(\"Enter the input: \")\n",
        "palindrome(a)"
      ],
      "metadata": {
        "colab": {
          "base_uri": "https://localhost:8080/"
        },
        "id": "8v1Q5OZ6iuVd",
        "outputId": "336a5191-ee65-430b-bc6b-a2f736cb6707"
      },
      "execution_count": 86,
      "outputs": [
        {
          "output_type": "stream",
          "name": "stdout",
          "text": [
            "Enter the input: 232\n",
            "232 is a palindrome\n"
          ]
        }
      ]
    },
    {
      "cell_type": "code",
      "source": [
        "#28. code for fibinocci services.\n",
        "def fibinocci(n):\n",
        "  n1,n2=0,1\n",
        "  sum=0\n",
        "  if n<0:\n",
        "    print(\"please enter positive number.\")\n",
        "  else:\n",
        "    print(\"fibinocci series:\")\n",
        "    for i in range(0,n):\n",
        "      print(sum,end='')\n",
        "      n1=n2\n",
        "      n2=sumsum=n1+n2\n",
        "n=int(input())\n",
        "fibinocci(n)"
      ],
      "metadata": {
        "colab": {
          "base_uri": "https://localhost:8080/"
        },
        "id": "VGFHijUdj8Tz",
        "outputId": "e778304b-bc3c-4597-9391-198bf25bc66c"
      },
      "execution_count": 90,
      "outputs": [
        {
          "output_type": "stream",
          "name": "stdout",
          "text": [
            "1\n",
            "fibinocci series:\n",
            "0"
          ]
        }
      ]
    },
    {
      "cell_type": "code",
      "source": [
        "#29. code for counting parentheses\n",
        "def parentheses_count(u):\n",
        "  open=u.count('(')\n",
        "  close=u.count(')')\n",
        "  print(\"opening parentheses count:\",open)\n",
        "  print(\"closing parentheses\",close)\n",
        "  if open==close:\n",
        "    print(\"parentheses are balanced\")\n",
        "  else:\n",
        "    print(\"parentheses are not balanced\")\n",
        "u=input(\"Enter the string:\")\n",
        "parentheses_count(u)\n"
      ],
      "metadata": {
        "colab": {
          "base_uri": "https://localhost:8080/"
        },
        "id": "4oHK7MIhl_Mo",
        "outputId": "c2aac8e4-e7ee-4cb9-a3bd-3d0a2ac16153"
      },
      "execution_count": 95,
      "outputs": [
        {
          "output_type": "stream",
          "name": "stdout",
          "text": [
            "Enter the string:20\n",
            "opening parentheses count: 0\n",
            "closing parentheses 0\n",
            "parentheses are balanced\n"
          ]
        }
      ]
    },
    {
      "cell_type": "code",
      "source": [
        "#30. python code to return first non-repeating element.\n",
        "def non_repeating(s):\n",
        "  flag = 0\n",
        "  for i in s:\n",
        "    if s.count(i)==1:\n",
        "      print(\"First non-repeating character is :\",i)\n",
        "      flag=1\n",
        "      break\n",
        "  if flag==0:\n",
        "    print(\"No non-repeating character\")\n",
        "s=input()\n",
        "non_repeating(s)"
      ],
      "metadata": {
        "colab": {
          "base_uri": "https://localhost:8080/"
        },
        "id": "oaXattSCoPEu",
        "outputId": "3e320f0c-e00e-4b75-a373-28e97a21610e"
      },
      "execution_count": 96,
      "outputs": [
        {
          "output_type": "stream",
          "name": "stdout",
          "text": [
            "3\n",
            "First non-repeating character is : 3\n"
          ]
        }
      ]
    }
  ]
}