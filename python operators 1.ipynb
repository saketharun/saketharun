{
  "cells": [
    {
      "cell_type": "markdown",
      "metadata": {
        "id": "view-in-github",
        "colab_type": "text"
      },
      "source": [
        "<a href=\"https://colab.research.google.com/github/saketharun/saketharun/blob/main/python%20operators%201.ipynb\" target=\"_parent\"><img src=\"https://colab.research.google.com/assets/colab-badge.svg\" alt=\"Open In Colab\"/></a>"
      ]
    },
    {
      "cell_type": "markdown",
      "metadata": {
        "id": "EG88zCVfkigT"
      },
      "source": [
        "                                  PYTHON OPERATORS:\n",
        "\n",
        "\n",
        "   In Python programming, Operators in general are used to perform operations on values and variables.\n",
        "\n",
        "\n",
        "\n",
        "                       TYPES OF OPERATORS:\n",
        "\n",
        "\n",
        "      Arithmetic Operators:\n",
        "\n",
        "\n",
        "      Arithmetic operators are used with numeric values to perform common mathematical operators.\n",
        "\n",
        "      ADDITION OPERATOR:"
      ]
    },
    {
      "cell_type": "code",
      "execution_count": null,
      "metadata": {
        "colab": {
          "base_uri": "https://localhost:8080/"
        },
        "id": "cyk6HYeAlp2r",
        "outputId": "9591274e-4ef3-492e-be3d-d1a26c7bcc3f"
      },
      "outputs": [
        {
          "name": "stdout",
          "output_type": "stream",
          "text": [
            "32\n",
            "187\n",
            "54\n",
            "121\n",
            "109\n"
          ]
        }
      ],
      "source": [
        "a=10\n",
        "b=22\n",
        "c=99\n",
        "d=88\n",
        "e=44\n",
        "\n",
        "\n",
        "x=a+b\n",
        "y=c+d\n",
        "z=e+a\n",
        "u=c+b\n",
        "v=c+a\n",
        "\n",
        "\n",
        "print(x)\n",
        "print(y)\n",
        "print(z)\n",
        "print(u)\n",
        "print(v)"
      ]
    },
    {
      "cell_type": "markdown",
      "metadata": {
        "id": "UmWyy3fxmoYA"
      },
      "source": [
        "SUBSTRACTION OPERATOR"
      ]
    },
    {
      "cell_type": "code",
      "execution_count": null,
      "metadata": {
        "colab": {
          "base_uri": "https://localhost:8080/"
        },
        "id": "R_P4xRIKmvBk",
        "outputId": "c882e05b-f455-4923-c12b-9a3fb21a763e"
      },
      "outputs": [
        {
          "name": "stdout",
          "output_type": "stream",
          "text": [
            "78\n",
            "33\n",
            "-78\n",
            "55\n",
            "-23\n"
          ]
        }
      ],
      "source": [
        "a=100\n",
        "b=22\n",
        "c=77\n",
        "d=44\n",
        "e=22\n",
        "\n",
        "\n",
        "x=a-b\n",
        "y=c-d\n",
        "z=e-a\n",
        "u=c-b\n",
        "v=c-a\n",
        "\n",
        "print(x)\n",
        "print(y)\n",
        "print(z)\n",
        "print(u)\n",
        "print(v)\n"
      ]
    },
    {
      "cell_type": "markdown",
      "metadata": {
        "id": "YP00kpW7o-6l"
      },
      "source": [
        "  MULTIPLICATION ASSIGNMENT OPERATOR:"
      ]
    },
    {
      "cell_type": "code",
      "execution_count": null,
      "metadata": {
        "colab": {
          "base_uri": "https://localhost:8080/"
        },
        "id": "9w2koa3DpMMt",
        "outputId": "5b01d07a-f368-4fce-e421-9e3952b946fb"
      },
      "outputs": [
        {
          "name": "stdout",
          "output_type": "stream",
          "text": [
            "3400\n",
            "3640\n",
            "258400\n",
            "1156\n",
            "221000\n"
          ]
        }
      ],
      "source": [
        "a=100\n",
        "b=34\n",
        "c=56\n",
        "d=65\n",
        "e=76\n",
        "\n",
        "\n",
        "a*=b\n",
        "c*=d\n",
        "e*=a\n",
        "b*=b\n",
        "d*=a\n",
        "\n",
        "\n",
        "print(a)\n",
        "print(c)\n",
        "print(e)\n",
        "print(b)\n",
        "print(d)"
      ]
    },
    {
      "cell_type": "markdown",
      "metadata": {
        "id": "peMm3vjrqy3r"
      },
      "source": [
        "  DIVISON OPERATOR:"
      ]
    },
    {
      "cell_type": "code",
      "execution_count": null,
      "metadata": {
        "colab": {
          "base_uri": "https://localhost:8080/"
        },
        "id": "oQSXomhrnSfv",
        "outputId": "044931fe-69cb-4a85-f6b3-a02ecf7dd794"
      },
      "outputs": [
        {
          "name": "stdout",
          "output_type": "stream",
          "text": [
            "2.9411764705882355\n",
            "0.8615384615384616\n",
            "0.76\n",
            "1.6470588235294117\n",
            "0.56\n"
          ]
        }
      ],
      "source": [
        "# RESULT RETURNS IN QUOTIENT\n",
        "\n",
        "a=100\n",
        "b=34\n",
        "c=56\n",
        "d=65\n",
        "e=76\n",
        "\n",
        "\n",
        "x=a/b\n",
        "y=c/d\n",
        "z=e/a\n",
        "u=c/b\n",
        "v=c/a\n",
        "\n",
        "\n",
        "print(x)\n",
        "print(y)\n",
        "print(z)\n",
        "print(u)\n",
        "print(v)"
      ]
    },
    {
      "cell_type": "markdown",
      "metadata": {
        "id": "C5q8KB5HoKun"
      },
      "source": [
        "MODULUS OPERATOR:"
      ]
    },
    {
      "cell_type": "code",
      "execution_count": null,
      "metadata": {
        "colab": {
          "base_uri": "https://localhost:8080/"
        },
        "id": "EtosBoXAoQ97",
        "outputId": "3db93905-f143-479f-e6cf-2c2fcb96a84c"
      },
      "outputs": [
        {
          "name": "stdout",
          "output_type": "stream",
          "text": [
            "32\n",
            "56\n",
            "76\n",
            "22\n",
            "56\n"
          ]
        }
      ],
      "source": [
        "from binascii import b2a_base64\n",
        "# Result returns in remainder.\n",
        "\n",
        "a=100\n",
        "b=34\n",
        "c=56\n",
        "d=65\n",
        "e=76\n",
        "\n",
        "x=a%b\n",
        "y=c%d\n",
        "z=e%a\n",
        "u=c%b\n",
        "v=c%a\n",
        "\n",
        "print(x)\n",
        "print(y)\n",
        "print(z)\n",
        "print(u)\n",
        "print(v)"
      ]
    },
    {
      "cell_type": "markdown",
      "metadata": {
        "id": "1CaNZY9spp01"
      },
      "source": [
        "EXPONENT OPERATOR:"
      ]
    },
    {
      "cell_type": "code",
      "execution_count": null,
      "metadata": {
        "colab": {
          "base_uri": "https://localhost:8080/"
        },
        "id": "CHQhvZDxpxzu",
        "outputId": "f43b075a-6f72-43c7-c3df-5a4410765761"
      },
      "outputs": [
        {
          "output_type": "stream",
          "name": "stdout",
          "text": [
            "8589934592000000000000000000000000000000000\n",
            "6050028516397248981960722390537902646790820926130894685283493395327614976\n",
            "348678440100000000000000000000\n",
            "1109046799524365168868992763533482393744965848272116117405696\n",
            "2459680572025003612127586705579442176\n"
          ]
        }
      ],
      "source": [
        "a=20\n",
        "b=33\n",
        "c=66\n",
        "d=40\n",
        "e=30\n",
        "\n",
        "x=a**b\n",
        "y=c**d\n",
        "z=e**a\n",
        "u=c**b\n",
        "v=c**a\n",
        "\n",
        "print(x)\n",
        "print(y)\n",
        "print(z)\n",
        "print(u)\n",
        "print(v)"
      ]
    },
    {
      "cell_type": "markdown",
      "source": [
        "FLOOT DIVISON OPERATOR:"
      ],
      "metadata": {
        "id": "QfW1i6ZFuXeK"
      }
    },
    {
      "cell_type": "code",
      "source": [
        "# Result removes the decimal\n",
        "a=100\n",
        "b=34\n",
        "c=56\n",
        "d=65\n",
        "e=76\n",
        "\n",
        "x=a//b\n",
        "y=c//d\n",
        "z=e//a\n",
        "u=c//b\n",
        "v=c//a\n",
        "\n",
        "print(x)\n",
        "print(y)\n",
        "print(z)\n",
        "print(u)\n",
        "print(v)"
      ],
      "metadata": {
        "colab": {
          "base_uri": "https://localhost:8080/"
        },
        "id": "KUFBMAJH1zws",
        "outputId": "2dc786b1-76a3-44f8-fa9d-b7e2509c12ef"
      },
      "execution_count": null,
      "outputs": [
        {
          "output_type": "stream",
          "name": "stdout",
          "text": [
            "2\n",
            "0\n",
            "0\n",
            "1\n",
            "0\n"
          ]
        }
      ]
    },
    {
      "cell_type": "markdown",
      "source": [
        "ASSIGNMENT OPERATORS:\n",
        "\n",
        "\n",
        "Are used to assign values to variables.\n",
        "symbols =\n",
        "\n",
        "   Addition Assignment operators:"
      ],
      "metadata": {
        "id": "JHnaws1H2iZI"
      }
    },
    {
      "cell_type": "code",
      "source": [
        "a=10\n",
        "b=22\n",
        "c=99\n",
        "d=28\n",
        "e=65\n",
        "\n",
        "a+=b\n",
        "c+=d\n",
        "e+=a\n",
        "b+=b\n",
        "d+=c\n",
        "\n",
        "\n",
        "print(a)\n",
        "print(c)\n",
        "print(e)\n",
        "print(b)\n",
        "print(d)\n"
      ],
      "metadata": {
        "colab": {
          "base_uri": "https://localhost:8080/"
        },
        "id": "iWJHVrpc24hD",
        "outputId": "2a7180ff-932f-41aa-f9b3-a7e67a4f8fce"
      },
      "execution_count": null,
      "outputs": [
        {
          "output_type": "stream",
          "name": "stdout",
          "text": [
            "32\n",
            "127\n",
            "97\n",
            "44\n",
            "155\n"
          ]
        }
      ]
    },
    {
      "cell_type": "markdown",
      "source": [
        " SUBTRACTION Assignment operator:\n"
      ],
      "metadata": {
        "id": "_UfQduGf6Ki1"
      }
    },
    {
      "cell_type": "code",
      "source": [
        "a=100\n",
        "b=228\n",
        "c=56\n",
        "d=65\n",
        "e=76\n",
        "\n",
        "a-=b\n",
        "c-=d\n",
        "e-=a\n",
        "b-=d\n",
        "d-=a\n",
        "\n",
        "print(a)\n",
        "print(c)\n",
        "print(e)\n",
        "print(b)\n",
        "print(d)"
      ],
      "metadata": {
        "colab": {
          "base_uri": "https://localhost:8080/"
        },
        "id": "zuxOAudR6jBO",
        "outputId": "e2cdaae3-9fc5-4874-adf6-ee0a37e91289"
      },
      "execution_count": null,
      "outputs": [
        {
          "output_type": "stream",
          "name": "stdout",
          "text": [
            "-128\n",
            "-9\n",
            "204\n",
            "163\n",
            "193\n"
          ]
        }
      ]
    },
    {
      "cell_type": "markdown",
      "source": [
        "MULTIPLICATION ASSIGNMENT OPERATOTR:"
      ],
      "metadata": {
        "id": "dqL0Or-17dEo"
      }
    },
    {
      "cell_type": "code",
      "source": [
        "a=100\n",
        "b=34\n",
        "c=56\n",
        "d=65\n",
        "e=76\n",
        "\n",
        "a*=b\n",
        "c*=d\n",
        "e*=a\n",
        "b*=b\n",
        "d*=a\n",
        "\n",
        "\n",
        "print(a)\n",
        "print(c)\n",
        "print(e)\n",
        "print(b)\n",
        "print(d)"
      ],
      "metadata": {
        "colab": {
          "base_uri": "https://localhost:8080/"
        },
        "id": "3DnJQA_k7mjU",
        "outputId": "07c209c3-dd32-46b8-d77b-59e7e1aad487"
      },
      "execution_count": null,
      "outputs": [
        {
          "output_type": "stream",
          "name": "stdout",
          "text": [
            "3400\n",
            "3640\n",
            "258400\n",
            "1156\n",
            "221000\n"
          ]
        }
      ]
    },
    {
      "cell_type": "markdown",
      "source": [
        "DIVISION ASSIGNMENT OPERATOR:"
      ],
      "metadata": {
        "id": "WKagg7Tq8XrE"
      }
    },
    {
      "cell_type": "code",
      "source": [
        "a=100\n",
        "b=34\n",
        "c=56\n",
        "d=65\n",
        "e=76\n",
        "\n",
        "a/=b\n",
        "c/=d\n",
        "e/=a\n",
        "b/=b\n",
        "d/=a\n",
        "\n",
        "\n",
        "print(a)\n",
        "print(c)\n",
        "print(e)\n",
        "print(b)\n",
        "print(d)"
      ],
      "metadata": {
        "colab": {
          "base_uri": "https://localhost:8080/"
        },
        "id": "So3OVEQ98dES",
        "outputId": "d81e3d78-8b41-4b2f-b787-67d93c1e714d"
      },
      "execution_count": null,
      "outputs": [
        {
          "output_type": "stream",
          "name": "stdout",
          "text": [
            "2.9411764705882355\n",
            "0.8615384615384616\n",
            "25.84\n",
            "1.0\n",
            "22.099999999999998\n"
          ]
        }
      ]
    },
    {
      "cell_type": "markdown",
      "source": [
        "REAMINDER ASSIGNMENT OPERATOR:"
      ],
      "metadata": {
        "id": "tBOl7kPB86ei"
      }
    },
    {
      "cell_type": "code",
      "source": [
        "a=100\n",
        "b=34\n",
        "c=56\n",
        "d=65\n",
        "e=76\n",
        "\n",
        "a%=b\n",
        "c%=d\n",
        "e%=a\n",
        "b%=b\n",
        "d%=a\n",
        "\n",
        "\n",
        "print(a)\n",
        "print(c)\n",
        "print(e)\n",
        "print(b)\n",
        "print(d)"
      ],
      "metadata": {
        "colab": {
          "base_uri": "https://localhost:8080/"
        },
        "id": "X9uSoKP78_yC",
        "outputId": "1630ea22-44e7-4f03-ea82-4bdfba35ebfb"
      },
      "execution_count": null,
      "outputs": [
        {
          "output_type": "stream",
          "name": "stdout",
          "text": [
            "32\n",
            "56\n",
            "12\n",
            "0\n",
            "1\n"
          ]
        }
      ]
    }
  ],
  "metadata": {
    "colab": {
      "provenance": [],
      "authorship_tag": "ABX9TyO5eBKKEM2WAjSePylf1ljI",
      "include_colab_link": true
    },
    "kernelspec": {
      "display_name": "Python 3",
      "name": "python3"
    },
    "language_info": {
      "name": "python"
    }
  },
  "nbformat": 4,
  "nbformat_minor": 0
}