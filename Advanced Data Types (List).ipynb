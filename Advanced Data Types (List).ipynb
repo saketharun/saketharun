{
  "nbformat": 4,
  "nbformat_minor": 0,
  "metadata": {
    "colab": {
      "provenance": [],
      "authorship_tag": "ABX9TyOUFMPmxeytUPHI+2tsaTWn",
      "include_colab_link": true
    },
    "kernelspec": {
      "name": "python3",
      "display_name": "Python 3"
    },
    "language_info": {
      "name": "python"
    }
  },
  "cells": [
    {
      "cell_type": "markdown",
      "metadata": {
        "id": "view-in-github",
        "colab_type": "text"
      },
      "source": [
        "<a href=\"https://colab.research.google.com/github/saketharun/saketharun/blob/main/Advanced%20Data%20Types%20(List).ipynb\" target=\"_parent\"><img src=\"https://colab.research.google.com/assets/colab-badge.svg\" alt=\"Open In Colab\"/></a>"
      ]
    },
    {
      "cell_type": "markdown",
      "source": [
        "                                    PYTHON LISTS\n",
        "\n",
        "\n",
        "                .It is commnly used data type that represnts an ordered, mutable (modifiable) and iterable sequence of elements.\n",
        "\n",
        "                .Lists are used to store collections of items, and these items can be of any data type, including numbers, strings, or even others lists.\n",
        "\n",
        "                .Lists are defined using square brackets[] and elements are separated by commas(,).\n"
      ],
      "metadata": {
        "id": "QBiO9nti_Lcu"
      }
    },
    {
      "cell_type": "code",
      "source": [
        "CREATION OF LISTS:\n",
        "\n",
        "   my_list = []\n",
        "   numbers =[1,2,3,4,5]\n",
        "   names = [\"Apple\",\"Banana\",\"Mango\"]\n",
        "   mixed_types = [1,\"apple\",3.14,True]\n",
        "   print(type(mixed_types))\n",
        "   print(type(numbers))"
      ],
      "metadata": {
        "colab": {
          "base_uri": "https://localhost:8080/"
        },
        "id": "V9OtJV3BBw7A",
        "outputId": "da3272d3-9460-472e-cf6d-03cd2fbba441"
      },
      "execution_count": 2,
      "outputs": [
        {
          "output_type": "stream",
          "name": "stdout",
          "text": [
            "<class 'list'>\n",
            "<class 'list'>\n"
          ]
        }
      ]
    },
    {
      "cell_type": "markdown",
      "source": [
        "ACCESS LIST ELEMENTS\n",
        "\n",
        "\n",
        ". In python,lists are orderded and each item in a list associated with a number.the number is known as a list index.\n",
        "\n",
        ". The index of the first element is 0, second element is 1 and so on.\n",
        "\n",
        ". Python allows negative indexing for its sequences.\n",
        ". The index of -1 refers to the last item, -2 to the second last item and so on."
      ],
      "metadata": {
        "id": "V8rFBXBcB9Ga"
      }
    },
    {
      "cell_type": "code",
      "source": [
        "#positive indexing\n",
        "language=[\"python\",\"swift\",\"c++\",]\n",
        "print(language[0])\n",
        "print (language[2])\n"
      ],
      "metadata": {
        "colab": {
          "base_uri": "https://localhost:8080/"
        },
        "id": "HkVd8pXVDbhb",
        "outputId": "9522c902-0d65-476d-87a9-9a61f5fa3a3e"
      },
      "execution_count": 3,
      "outputs": [
        {
          "output_type": "stream",
          "name": "stdout",
          "text": [
            "python\n",
            "c++\n"
          ]
        }
      ]
    },
    {
      "cell_type": "code",
      "source": [
        "# NEGITIVE INDEXING\n",
        "names=[\"harsha\",\"mahesh\",\"tahir\",]\n",
        "print(names[-1])\n",
        "print(names[-3])"
      ],
      "metadata": {
        "colab": {
          "base_uri": "https://localhost:8080/"
        },
        "id": "mOYYfZQFE3VY",
        "outputId": "63844d64-7993-4cb3-fc76-e0a6e94d1867"
      },
      "execution_count": 8,
      "outputs": [
        {
          "output_type": "stream",
          "name": "stdout",
          "text": [
            "tahir\n",
            "harsha\n"
          ]
        }
      ]
    },
    {
      "cell_type": "markdown",
      "source": [
        "SLICING OF A LIST\n",
        "\n",
        "\n",
        "in python,it is possible to access a portion of a list using the slicing operator:"
      ],
      "metadata": {
        "id": "RVotEZ4TGfiB"
      }
    },
    {
      "cell_type": "code",
      "source": [
        "my_list=['e',\"t\",'a','b','c','k','e',]\n",
        "print(my_list[3:18])"
      ],
      "metadata": {
        "colab": {
          "base_uri": "https://localhost:8080/"
        },
        "id": "f8M5EUTcIIbE",
        "outputId": "ccda58df-e34e-46fd-b0f3-47583bcded75"
      },
      "execution_count": 3,
      "outputs": [
        {
          "output_type": "stream",
          "name": "stdout",
          "text": [
            "['b', 'c', 'k', 'e']\n"
          ]
        }
      ]
    },
    {
      "cell_type": "code",
      "source": [
        "print(my_list[:3])"
      ],
      "metadata": {
        "colab": {
          "base_uri": "https://localhost:8080/"
        },
        "id": "Jns834ngWG37",
        "outputId": "55559ffe-7648-4096-8e34-97c5e3bca90d"
      },
      "execution_count": 6,
      "outputs": [
        {
          "output_type": "stream",
          "name": "stdout",
          "text": [
            "['e', 't', 'a']\n"
          ]
        }
      ]
    },
    {
      "cell_type": "code",
      "source": [
        "print(my_list[:7])"
      ],
      "metadata": {
        "colab": {
          "base_uri": "https://localhost:8080/"
        },
        "id": "43SQ927GXFZX",
        "outputId": "6fe42d42-d57e-4440-ba6d-3cfb92144996"
      },
      "execution_count": 7,
      "outputs": [
        {
          "output_type": "stream",
          "name": "stdout",
          "text": [
            "['e', 't', 'a', 'b', 'c', 'k', 'e']\n"
          ]
        }
      ]
    },
    {
      "cell_type": "code",
      "source": [
        "print(my_list[5:9])"
      ],
      "metadata": {
        "colab": {
          "base_uri": "https://localhost:8080/"
        },
        "id": "ncINs_juXSPo",
        "outputId": "cfb90410-5b2f-43be-a7d9-bd41cffa8c0a"
      },
      "execution_count": 8,
      "outputs": [
        {
          "output_type": "stream",
          "name": "stdout",
          "text": [
            "['k', 'e']\n"
          ]
        }
      ]
    },
    {
      "cell_type": "markdown",
      "source": [
        "                         LIST OPERATIONS\n",
        "\n",
        "           List contain two types of operations\n",
        "\n",
        "           1. Concatenation\n",
        "           2. Repetition\n",
        "           \n",
        "           \n",
        "                             Concatenation"
      ],
      "metadata": {
        "id": "lGrR0LJ7X1Oo"
      }
    },
    {
      "cell_type": "code",
      "source": [
        "# Adding Two lists\n",
        "a =[1,2,3]\n",
        "b =[1,4,5,6,3,9]\n",
        "c = a + b\n",
        "print(c)\n"
      ],
      "metadata": {
        "colab": {
          "base_uri": "https://localhost:8080/"
        },
        "id": "07UhY4GQY1mP",
        "outputId": "c87e43a0-7d98-4623-88c8-ebc0f8dc2b53"
      },
      "execution_count": 9,
      "outputs": [
        {
          "output_type": "stream",
          "name": "stdout",
          "text": [
            "[1, 2, 3, 1, 4, 5, 6, 3, 9]\n"
          ]
        }
      ]
    },
    {
      "cell_type": "markdown",
      "source": [
        "                       Repetition"
      ],
      "metadata": {
        "id": "0H6W9fJqnZsc"
      }
    },
    {
      "cell_type": "code",
      "source": [
        "# Repet the values of multiple lists\n",
        "a = [3,5,2,1,9,8]\n",
        "b = a*14\n",
        "print (b)"
      ],
      "metadata": {
        "colab": {
          "base_uri": "https://localhost:8080/"
        },
        "id": "Hz56YRXwnlk2",
        "outputId": "f39cc872-370e-44c7-b3ab-eae3b94ba5e5"
      },
      "execution_count": 1,
      "outputs": [
        {
          "output_type": "stream",
          "name": "stdout",
          "text": [
            "[3, 5, 2, 1, 9, 8, 3, 5, 2, 1, 9, 8, 3, 5, 2, 1, 9, 8, 3, 5, 2, 1, 9, 8, 3, 5, 2, 1, 9, 8, 3, 5, 2, 1, 9, 8, 3, 5, 2, 1, 9, 8, 3, 5, 2, 1, 9, 8, 3, 5, 2, 1, 9, 8, 3, 5, 2, 1, 9, 8, 3, 5, 2, 1, 9, 8, 3, 5, 2, 1, 9, 8, 3, 5, 2, 1, 9, 8, 3, 5, 2, 1, 9, 8]\n"
          ]
        }
      ]
    },
    {
      "cell_type": "markdown",
      "source": [
        "                           Change list items\n",
        "\n",
        "\n",
        "      To change the values of a specific item, refer to the index number.\n"
      ],
      "metadata": {
        "id": "m1oHe0ZLpr-e"
      }
    },
    {
      "cell_type": "code",
      "source": [
        "list = [\"apple\", \"banana\", \"cherry\"]\n",
        "print(list)\n",
        "list[0] = \"Water melon\"\n",
        "print(list)\n"
      ],
      "metadata": {
        "colab": {
          "base_uri": "https://localhost:8080/"
        },
        "id": "xzfOlp28qWos",
        "outputId": "1cf93243-0005-4952-f729-4ac519a3f263"
      },
      "execution_count": 2,
      "outputs": [
        {
          "output_type": "stream",
          "name": "stdout",
          "text": [
            "['apple', 'banana', 'cherry']\n",
            "['Water melon', 'banana', 'cherry']\n"
          ]
        }
      ]
    },
    {
      "cell_type": "code",
      "source": [
        "list = [\"ball\", \"cat\", \"dog\"]\n",
        "print(list)\n",
        "list[1:4] = \"pigeon\"\n",
        "print(list)"
      ],
      "metadata": {
        "colab": {
          "base_uri": "https://localhost:8080/"
        },
        "id": "-lvbVyn7rEKy",
        "outputId": "6dbe32e7-244d-4971-d7cf-73c0804ee72e"
      },
      "execution_count": 6,
      "outputs": [
        {
          "output_type": "stream",
          "name": "stdout",
          "text": [
            "['ball', 'cat', 'dog']\n",
            "['ball', 'p', 'i', 'g', 'e', 'o', 'n']\n"
          ]
        }
      ]
    },
    {
      "cell_type": "code",
      "source": [
        "list = [\"tharun\", \"harsha\",\"nagasai\" ]\n",
        "print(list)\n",
        "list[2:3] = \"mahesh\"\n",
        "print(list)"
      ],
      "metadata": {
        "colab": {
          "base_uri": "https://localhost:8080/"
        },
        "id": "JiIxwcJDr-Ky",
        "outputId": "0a31a066-e3f3-44bf-f13e-943b058ff585"
      },
      "execution_count": 7,
      "outputs": [
        {
          "output_type": "stream",
          "name": "stdout",
          "text": [
            "['tharun', 'harsha', 'nagasai']\n",
            "['tharun', 'harsha', 'm', 'a', 'h', 'e', 's', 'h']\n"
          ]
        }
      ]
    },
    {
      "cell_type": "markdown",
      "source": [
        "                           List Methods\n",
        "\n",
        "                Python has a set of built-in methods that you can use lists.\n",
        "\n",
        "\n",
        "                             Methods Description\n",
        "\n",
        "\n",
        "                       append()\n",
        "                Adds an element at the end of the list\n",
        "\n",
        "                       extrend()\n",
        "                Adds an elements of a list (or any iterable ), to the end of the current list\n",
        "\n",
        "\n",
        "\n",
        "                        Insert()\n",
        "\n",
        "                Adds an elements at the specified position\n",
        "\n",
        "\n",
        "\n",
        "                        Remove()\n",
        "\n",
        "              Remove the item with the specified value\n",
        "\n",
        "                        pop()\n",
        "\n",
        "              Removes the elements at the specified position\n",
        "\n",
        "\n",
        "                        index()\n",
        "\n",
        "             Returns the index of the first element with the specified valuke\n",
        "\n",
        "\n",
        "                        Count()\n",
        "\n",
        "            Returns the number of elements with the specified value\n",
        "\n",
        "                        Sort()\n",
        "\n",
        "           Sorts the list in a ascending order\n",
        "\n",
        "\n",
        "                        Reverse()\n",
        "\n",
        "              Reverse the order of the lists\n",
        "\n",
        "\n",
        "\n",
        "\n",
        "\n",
        "      1. Append():\n",
        "\n",
        "\n",
        "\n",
        "      TO add an item to the end of thye list, use the append()method:"
      ],
      "metadata": {
        "id": "vXId-kgjs8im"
      }
    },
    {
      "cell_type": "code",
      "source": [
        "thislist = [\"apple\",\"banana\",\"cherry\"]\n",
        "thislist.append(\"orange\")\n",
        "print(thislist)\n"
      ],
      "metadata": {
        "colab": {
          "base_uri": "https://localhost:8080/"
        },
        "id": "oGHtEb0Q0MvS",
        "outputId": "a1aafd9b-4b71-42c8-d205-c3a824dfbc7b"
      },
      "execution_count": 2,
      "outputs": [
        {
          "output_type": "stream",
          "name": "stdout",
          "text": [
            "['apple', 'banana', 'cherry', 'orange']\n"
          ]
        }
      ]
    },
    {
      "cell_type": "markdown",
      "source": [
        "    2. extend()\n",
        "\n",
        "       To append elements from another list to the current list, use the extend()metod."
      ],
      "metadata": {
        "id": "nXCTocXO08QN"
      }
    },
    {
      "cell_type": "code",
      "source": [
        "thislist = [\"apple\",\"banana\",\"cherry\"]\n",
        "fruits  = [\"mango\",\"pineapple\", \"papaya\"]\n",
        "thislist.extend(fruits)\n",
        "print(thislist)"
      ],
      "metadata": {
        "colab": {
          "base_uri": "https://localhost:8080/"
        },
        "id": "VWKOOL5T1ZIX",
        "outputId": "60484ac4-415f-482b-879c-85072fadc7c1"
      },
      "execution_count": 7,
      "outputs": [
        {
          "output_type": "stream",
          "name": "stdout",
          "text": [
            "['apple', 'banana', 'cherry', 'mango', 'pineapple', 'papaya']\n"
          ]
        }
      ]
    },
    {
      "cell_type": "markdown",
      "source": [
        "    3. insert()\n",
        "\n",
        "     To insert a list item at a specified index or position, use the insert()method."
      ],
      "metadata": {
        "id": "NcXnpC7F2o5d"
      }
    },
    {
      "cell_type": "code",
      "source": [
        "thislist = [\"amar\",\"rohit\",\"gana\"]\n",
        "thislist.insert(1, \"anil\")\n",
        "print(thislist)"
      ],
      "metadata": {
        "colab": {
          "base_uri": "https://localhost:8080/"
        },
        "id": "iBB0cDRo3CVw",
        "outputId": "90da0126-0431-4caa-f297-205efadcbc83"
      },
      "execution_count": 11,
      "outputs": [
        {
          "output_type": "stream",
          "name": "stdout",
          "text": [
            "['amar', 'anil', 'rohit', 'gana']\n"
          ]
        }
      ]
    },
    {
      "cell_type": "markdown",
      "source": [
        "    4. Remove()\n",
        "\n",
        "     Remove the first occurance of a value, the remove() method removes the specified item."
      ],
      "metadata": {
        "id": "F1LHyuKt4OlQ"
      }
    },
    {
      "cell_type": "code",
      "source": [
        "thislist = [\"cocount\",\"water\", \"cocount tree\"]\n",
        "thislist.remove(\"water\")\n",
        "print(thislist)\n"
      ],
      "metadata": {
        "colab": {
          "base_uri": "https://localhost:8080/"
        },
        "id": "Fr2cx7Kb4xje",
        "outputId": "5109f666-18b1-46e1-8a0d-0c4b422f3d12"
      },
      "execution_count": 12,
      "outputs": [
        {
          "output_type": "stream",
          "name": "stdout",
          "text": [
            "['cocount', 'cocount tree']\n"
          ]
        }
      ]
    },
    {
      "cell_type": "markdown",
      "source": [
        "  5. pop()\n",
        "\n",
        "   the pop() method removes the specified index, removes and returns an elements at a specified index.\n"
      ],
      "metadata": {
        "id": "srNg3vR87-7-"
      }
    },
    {
      "cell_type": "code",
      "source": [
        "thislist =[\"nari\",\"suri\",\"bari\"]\n",
        "thislist.pop(1)\n",
        "print(thislist)"
      ],
      "metadata": {
        "id": "YgwV7c_e8xSd",
        "outputId": "185e0f30-79b0-4397-db4f-d26eda5f06da",
        "colab": {
          "base_uri": "https://localhost:8080/"
        }
      },
      "execution_count": 1,
      "outputs": [
        {
          "output_type": "stream",
          "name": "stdout",
          "text": [
            "['nari', 'bari']\n"
          ]
        }
      ]
    },
    {
      "cell_type": "markdown",
      "source": [
        "  6. inedx():\n",
        "\n",
        "  Returns the index of the first occurance of value"
      ],
      "metadata": {
        "id": "jcTA2FuX-H02"
      }
    },
    {
      "cell_type": "code",
      "source": [
        "names = [\"dada\",\"sai\",\"hari\",\"gani\"]\n",
        "index = names.index(\"sai\")\n",
        "print (index)"
      ],
      "metadata": {
        "id": "kMRfatOJ-eiL",
        "outputId": "0bf9e2b6-7393-4d8f-938b-a21e4d6e8fb6",
        "colab": {
          "base_uri": "https://localhost:8080/"
        }
      },
      "execution_count": 10,
      "outputs": [
        {
          "output_type": "stream",
          "name": "stdout",
          "text": [
            "1\n"
          ]
        }
      ]
    },
    {
      "cell_type": "code",
      "source": [
        "numbers = [10,20,50,40,40,50,60,20,40,80]\n",
        "index = numbers.index(20)\n",
        "print(index)"
      ],
      "metadata": {
        "id": "C-Ii4oYWKdhL",
        "outputId": "fa1379d6-4672-4d7f-83b3-01d04cb4ef39",
        "colab": {
          "base_uri": "https://localhost:8080/"
        }
      },
      "execution_count": 11,
      "outputs": [
        {
          "output_type": "stream",
          "name": "stdout",
          "text": [
            "1\n"
          ]
        }
      ]
    },
    {
      "cell_type": "markdown",
      "source": [
        "     7. count():\n",
        "\n",
        "\n",
        "      Returns the number of occurances of a value."
      ],
      "metadata": {
        "id": "m758PtFFK7WJ"
      }
    },
    {
      "cell_type": "code",
      "source": [
        "text =\"hello world, hello everyone\"\n",
        "count_hello =text.count(\"hello\")\n",
        "print(count_hello)"
      ],
      "metadata": {
        "id": "4kGUHgpZLSk0",
        "outputId": "62b57ead-88ae-4447-bc43-ba4afde2a37c",
        "colab": {
          "base_uri": "https://localhost:8080/"
        }
      },
      "execution_count": 12,
      "outputs": [
        {
          "output_type": "stream",
          "name": "stdout",
          "text": [
            "2\n"
          ]
        }
      ]
    },
    {
      "cell_type": "code",
      "source": [
        "numbers =[1,2,3,4,5,6,7,8,9,33,5]\n",
        "count = numbers.count(5)\n",
        "print(count)"
      ],
      "metadata": {
        "id": "WKz_p_LKLyVF",
        "outputId": "a979d79e-2461-4131-e416-7e16c37aecef",
        "colab": {
          "base_uri": "https://localhost:8080/"
        }
      },
      "execution_count": 13,
      "outputs": [
        {
          "output_type": "stream",
          "name": "stdout",
          "text": [
            "2\n"
          ]
        }
      ]
    },
    {
      "cell_type": "markdown",
      "source": [
        "    8. SORT():\n",
        "\n",
        "\n",
        "\n",
        "  sorts the list in a asceding order.\n",
        "\n",
        "\n",
        "        "
      ],
      "metadata": {
        "id": "BB_Y2SBXMPBv"
      }
    },
    {
      "cell_type": "code",
      "source": [
        "thislist =[\"amma\", \"naana\",\"thamudu\",\"akka\"]\n",
        "thislist.sort()\n",
        "print(thislist)\n"
      ],
      "metadata": {
        "id": "x6TG27_tMrEz",
        "outputId": "4c01d303-2c46-439a-b6b2-63ba1103f13f",
        "colab": {
          "base_uri": "https://localhost:8080/"
        }
      },
      "execution_count": 14,
      "outputs": [
        {
          "output_type": "stream",
          "name": "stdout",
          "text": [
            "['akka', 'amma', 'naana', 'thamudu']\n"
          ]
        }
      ]
    },
    {
      "cell_type": "code",
      "source": [
        "numbers = [4,6,8,9,4,3,2,1,44,55,66,88,0,12]\n",
        "numbers.sort()\n",
        "print(numbers)"
      ],
      "metadata": {
        "id": "Ff382osGNPQ1",
        "outputId": "10a291e0-97ed-4325-da9e-3592dbe3e22d",
        "colab": {
          "base_uri": "https://localhost:8080/"
        }
      },
      "execution_count": 16,
      "outputs": [
        {
          "output_type": "stream",
          "name": "stdout",
          "text": [
            "[0, 1, 2, 3, 4, 4, 6, 8, 9, 12, 44, 55, 66, 88]\n"
          ]
        }
      ]
    },
    {
      "cell_type": "markdown",
      "source": [
        "   9. reverse():\n",
        "\n",
        "\n",
        "  Reversed the order of elements in the list."
      ],
      "metadata": {
        "id": "X6-Q06jUOAUJ"
      }
    },
    {
      "cell_type": "code",
      "source": [
        "my_string = \"Hello, world!\"\n",
        "reversed_string = my_string[::-2]\n",
        "print(reversed_string)"
      ],
      "metadata": {
        "id": "Bzn21aiVOSBz",
        "outputId": "3389a1cf-05b5-4fb4-bee7-263cf415ae6e",
        "colab": {
          "base_uri": "https://localhost:8080/"
        }
      },
      "execution_count": 20,
      "outputs": [
        {
          "output_type": "stream",
          "name": "stdout",
          "text": [
            "!lo olH\n"
          ]
        }
      ]
    },
    {
      "cell_type": "code",
      "source": [
        "numbers = [6,5,4,3,2,6,7,8,9]\n",
        "numbers.reverse()\n",
        "print(numbers)"
      ],
      "metadata": {
        "id": "UF80iodbPaRt",
        "outputId": "977ececd-c122-447f-85ae-2a9a83183572",
        "colab": {
          "base_uri": "https://localhost:8080/"
        }
      },
      "execution_count": 21,
      "outputs": [
        {
          "output_type": "stream",
          "name": "stdout",
          "text": [
            "[9, 8, 7, 6, 2, 3, 4, 5, 6]\n"
          ]
        }
      ]
    },
    {
      "cell_type": "markdown",
      "source": [
        "               Operator Description\n",
        "               \n",
        "                         copy()\n",
        "               \n",
        "               returns a shallow copy of the list.\n",
        "              \n",
        "                         del()\n",
        "\n",
        "              The del keyword also remolves the specified inedx.\n",
        "\n",
        "\n",
        "                         clear()\n",
        "\n",
        "\n",
        "              the clear method empties the list.\n",
        "\n",
        "\n",
        "\n",
        "\n",
        "        1. COPY():\n",
        "\n",
        "        Returns a shallow copy of list.\n"
      ],
      "metadata": {
        "id": "z80ECo0nP09-"
      }
    },
    {
      "cell_type": "code",
      "source": [
        "my_list = [1,2,3,4,5]\n",
        "new_list = my_list.copy()\n",
        "print(new_list)"
      ],
      "metadata": {
        "id": "7iI5acjhQ4HV",
        "outputId": "fef128ce-c93c-443e-9ee0-f92af48087b9",
        "colab": {
          "base_uri": "https://localhost:8080/"
        }
      },
      "execution_count": 22,
      "outputs": [
        {
          "output_type": "stream",
          "name": "stdout",
          "text": [
            "[1, 2, 3, 4, 5]\n"
          ]
        }
      ]
    },
    {
      "cell_type": "markdown",
      "source": [
        "     2.del():\n",
        "\n",
        "\n",
        "  The del keywords also removes the specified index."
      ],
      "metadata": {
        "id": "7s-d70kERPGW"
      }
    },
    {
      "cell_type": "code",
      "source": [
        "thislist = [\"mango\",\"orange\",\"custard apple\"]\n",
        "del thislist[0]\n",
        "print(thislist)"
      ],
      "metadata": {
        "id": "WbBUI02KRhhX",
        "outputId": "6d9b3ce5-73d6-4c6d-a4c8-9cdc62b5c39e",
        "colab": {
          "base_uri": "https://localhost:8080/"
        }
      },
      "execution_count": 24,
      "outputs": [
        {
          "output_type": "stream",
          "name": "stdout",
          "text": [
            "['orange', 'custard apple']\n"
          ]
        }
      ]
    },
    {
      "cell_type": "markdown",
      "source": [
        "   3. clear():\n",
        "\n",
        "     The clear()method empties the list. The list stills remains, but it has no content."
      ],
      "metadata": {
        "id": "ZG6CDlMNSNzI"
      }
    },
    {
      "cell_type": "code",
      "source": [
        "thislist = [\"arun\",\"sunil\",\"ravi\"]\n",
        "thislist.clear()\n",
        "print(thislist)"
      ],
      "metadata": {
        "id": "alBFkp6USw1-",
        "outputId": "8a233504-a043-426d-8440-6370d993960c",
        "colab": {
          "base_uri": "https://localhost:8080/"
        }
      },
      "execution_count": 25,
      "outputs": [
        {
          "output_type": "stream",
          "name": "stdout",
          "text": [
            "[]\n"
          ]
        }
      ]
    }
  ]
}