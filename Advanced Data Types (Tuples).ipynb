{
  "nbformat": 4,
  "nbformat_minor": 0,
  "metadata": {
    "colab": {
      "provenance": [],
      "authorship_tag": "ABX9TyP63dbpooYmEqkHyh20X382",
      "include_colab_link": true
    },
    "kernelspec": {
      "name": "python3",
      "display_name": "Python 3"
    },
    "language_info": {
      "name": "python"
    }
  },
  "cells": [
    {
      "cell_type": "markdown",
      "metadata": {
        "id": "view-in-github",
        "colab_type": "text"
      },
      "source": [
        "<a href=\"https://colab.research.google.com/github/saketharun/saketharun/blob/main/Advanced%20Data%20Types%20(Tuples).ipynb\" target=\"_parent\"><img src=\"https://colab.research.google.com/assets/colab-badge.svg\" alt=\"Open In Colab\"/></a>"
      ]
    },
    {
      "cell_type": "markdown",
      "source": [
        "                              PYTHON TUPLES\n",
        "\n",
        "\n",
        "  A tuple is a data type that represents an ordered, immutable (unchangeable) sequence of elements.\n",
        "\n",
        "\n",
        "\n",
        "  Tuples are similar to lists, but the key difference is that tuples cannot be modified once they are created.\n",
        "\n",
        "\n",
        "\n",
        "  They are defined using parenthesis()and elements are separted by commas.\n",
        "\n",
        "\n",
        "\n",
        "                FEATURES OF PYTHON TUPLE\n",
        "\n",
        "\n",
        "   Tuples are an immutable data type, meaning their elements cannot be changed after they are generated.\n",
        "\n",
        "\n",
        "  Each element in a tuple has a specific order that will never changes because tuples are orderd sequence.\n",
        "\n",
        "\n",
        "\n",
        "\n",
        "\n",
        "                CREATING A TUPLE"
      ],
      "metadata": {
        "id": "Sx2zL0ZdWuh_"
      }
    },
    {
      "cell_type": "code",
      "source": [
        "empty_tuple =()"
      ],
      "metadata": {
        "id": "h_iXGECjYnga"
      },
      "execution_count": 1,
      "outputs": []
    },
    {
      "cell_type": "code",
      "source": [
        "# tuple with elements\n",
        "\n",
        "fruits = (\"apple\",\"banana\",\"cherry\")\n",
        "print(fruits)\n",
        "print(type(fruits))"
      ],
      "metadata": {
        "colab": {
          "base_uri": "https://localhost:8080/"
        },
        "id": "3hmIczUBY64C",
        "outputId": "ad17613e-125c-4de4-fcab-387569f477fd"
      },
      "execution_count": 4,
      "outputs": [
        {
          "output_type": "stream",
          "name": "stdout",
          "text": [
            "('apple', 'banana', 'cherry')\n",
            "<class 'tuple'>\n"
          ]
        }
      ]
    },
    {
      "cell_type": "code",
      "source": [
        "# mixed tuples\n",
        "\n",
        "mixed_tuple = (1,\"apple\",5.4,\"true\")\n",
        "print(mixed_tuple)"
      ],
      "metadata": {
        "colab": {
          "base_uri": "https://localhost:8080/"
        },
        "id": "-1xLsZ0oZRX3",
        "outputId": "2777638b-761b-41a7-c361-f8208c667362"
      },
      "execution_count": 6,
      "outputs": [
        {
          "output_type": "stream",
          "name": "stdout",
          "text": [
            "(1, 'apple', 5.4, 'true')\n"
          ]
        }
      ]
    },
    {
      "cell_type": "code",
      "source": [
        "# single element tuple\n",
        "\n",
        "single_element_tuple =(25,)\n",
        "print(type(single_element_tuple))"
      ],
      "metadata": {
        "colab": {
          "base_uri": "https://localhost:8080/"
        },
        "id": "1K0-gZIyZ_kY",
        "outputId": "3c2191e6-155c-4768-f0b8-366a84c448a4"
      },
      "execution_count": 7,
      "outputs": [
        {
          "output_type": "stream",
          "name": "stdout",
          "text": [
            "<class 'tuple'>\n"
          ]
        }
      ]
    },
    {
      "cell_type": "markdown",
      "source": [
        "                       Accessing of tuples\n",
        "\n",
        "  Tuples support indexing and slicing, just like lists.  "
      ],
      "metadata": {
        "id": "NzwBKxBVbAWL"
      }
    },
    {
      "cell_type": "code",
      "source": [
        "fruits = (\"banana\",\"apple\",\"orange\")\n",
        "print(fruits[0])\n",
        "print(fruits[0:7])"
      ],
      "metadata": {
        "colab": {
          "base_uri": "https://localhost:8080/"
        },
        "id": "YwanDx5tbUT3",
        "outputId": "f058c121-c46a-41d7-c131-52a5df27dae8"
      },
      "execution_count": 9,
      "outputs": [
        {
          "output_type": "stream",
          "name": "stdout",
          "text": [
            "banana\n",
            "('banana', 'apple', 'orange')\n"
          ]
        }
      ]
    },
    {
      "cell_type": "markdown",
      "source": [
        "                               IMMUTABILITY:\n",
        "\n",
        "\n",
        "  Once a tuple is created you cannot change its elements or add /remove elements."
      ],
      "metadata": {
        "id": "g0CRF3Xgb6cG"
      }
    },
    {
      "cell_type": "code",
      "source": [
        "fruits = (\"apple\",\"pineapple\",\"orange\")\n",
        "fruits[2] = \"water\"\n",
        "print(fruits)"
      ],
      "metadata": {
        "colab": {
          "base_uri": "https://localhost:8080/",
          "height": 176
        },
        "id": "AaQVwUMlcSUF",
        "outputId": "ab7118c1-a374-44c2-b5e6-abe71a26915b"
      },
      "execution_count": 11,
      "outputs": [
        {
          "output_type": "error",
          "ename": "TypeError",
          "evalue": "'tuple' object does not support item assignment",
          "traceback": [
            "\u001b[0;31m---------------------------------------------------------------------------\u001b[0m",
            "\u001b[0;31mTypeError\u001b[0m                                 Traceback (most recent call last)",
            "\u001b[0;32m<ipython-input-11-b67fa2c70855>\u001b[0m in \u001b[0;36m<cell line: 2>\u001b[0;34m()\u001b[0m\n\u001b[1;32m      1\u001b[0m \u001b[0mfruits\u001b[0m \u001b[0;34m=\u001b[0m \u001b[0;34m(\u001b[0m\u001b[0;34m\"apple\"\u001b[0m\u001b[0;34m,\u001b[0m\u001b[0;34m\"pineapple\"\u001b[0m\u001b[0;34m,\u001b[0m\u001b[0;34m\"orange\"\u001b[0m\u001b[0;34m)\u001b[0m\u001b[0;34m\u001b[0m\u001b[0;34m\u001b[0m\u001b[0m\n\u001b[0;32m----> 2\u001b[0;31m \u001b[0mfruits\u001b[0m\u001b[0;34m[\u001b[0m\u001b[0;36m2\u001b[0m\u001b[0;34m]\u001b[0m \u001b[0;34m=\u001b[0m \u001b[0;34m\"water\"\u001b[0m\u001b[0;34m\u001b[0m\u001b[0;34m\u001b[0m\u001b[0m\n\u001b[0m\u001b[1;32m      3\u001b[0m \u001b[0mprint\u001b[0m\u001b[0;34m(\u001b[0m\u001b[0mfruits\u001b[0m\u001b[0;34m)\u001b[0m\u001b[0;34m\u001b[0m\u001b[0;34m\u001b[0m\u001b[0m\n",
            "\u001b[0;31mTypeError\u001b[0m: 'tuple' object does not support item assignment"
          ]
        }
      ]
    },
    {
      "cell_type": "markdown",
      "source": [
        "                 TUPLE OPERATIONS:"
      ],
      "metadata": {
        "id": "PonWjZw5dCJs"
      }
    },
    {
      "cell_type": "code",
      "source": [
        "#1. CONCENTATION:\n",
        "\n",
        "# Combining two tuples\n",
        "\n",
        "tuple1 = (1,2,3)\n",
        "tuple2 = (\"a\",\"b\",\"c\")\n",
        "result = tuple1+tuple2\n",
        "print(result)"
      ],
      "metadata": {
        "colab": {
          "base_uri": "https://localhost:8080/"
        },
        "id": "x5QaLMCOdOfr",
        "outputId": "24860c8d-df16-411f-95df-a52a41f3cd80"
      },
      "execution_count": 14,
      "outputs": [
        {
          "output_type": "stream",
          "name": "stdout",
          "text": [
            "(1, 2, 3, 'a', 'b', 'c')\n"
          ]
        }
      ]
    },
    {
      "cell_type": "code",
      "source": [
        " #2. Repetition:\n",
        "\n",
        " # repeating a tuple\n",
        " tuple1=(1,2,3)\n",
        " result=tuple1*20\n",
        " print(result)"
      ],
      "metadata": {
        "id": "XVEEzaK4eDIA",
        "outputId": "138e6556-73d1-42c8-dc56-e7bc9fbb3025",
        "colab": {
          "base_uri": "https://localhost:8080/"
        }
      },
      "execution_count": 17,
      "outputs": [
        {
          "output_type": "stream",
          "name": "stdout",
          "text": [
            "(1, 2, 3, 1, 2, 3, 1, 2, 3, 1, 2, 3, 1, 2, 3, 1, 2, 3, 1, 2, 3, 1, 2, 3, 1, 2, 3, 1, 2, 3, 1, 2, 3, 1, 2, 3, 1, 2, 3, 1, 2, 3, 1, 2, 3, 1, 2, 3, 1, 2, 3, 1, 2, 3, 1, 2, 3, 1, 2, 3)\n"
          ]
        }
      ]
    },
    {
      "cell_type": "markdown",
      "source": [
        "TUPLE METHODS:\n",
        "tuples have limited methods compare to lists due to dare immutability.\n",
        "\n",
        "1. COUNT()"
      ],
      "metadata": {
        "id": "-rmN3IAGe16Y"
      }
    },
    {
      "cell_type": "code",
      "source": [
        "# returns the number of accurrence\n",
        "numbers=(1,2,3,4,5,6,7,8,9)\n",
        "count=numbers.count(3)\n",
        "print(count)\n"
      ],
      "metadata": {
        "id": "QQ6BV5QGfUJA",
        "outputId": "fd9005aa-65ab-4cce-ff7b-2c57ca69d7c2",
        "colab": {
          "base_uri": "https://localhost:8080/"
        }
      },
      "execution_count": 19,
      "outputs": [
        {
          "output_type": "stream",
          "name": "stdout",
          "text": [
            "1\n"
          ]
        }
      ]
    },
    {
      "cell_type": "code",
      "source": [
        "strings=(\"banana\",\"cherry\",\"apple\")\n",
        "count=strings.count(\"cherry\")\n",
        "print(count)"
      ],
      "metadata": {
        "id": "JxDQXBsOf2N4",
        "outputId": "518e3dc1-ffdf-48aa-f4ba-11814aac84cd",
        "colab": {
          "base_uri": "https://localhost:8080/"
        }
      },
      "execution_count": 21,
      "outputs": [
        {
          "output_type": "stream",
          "name": "stdout",
          "text": [
            "1\n"
          ]
        }
      ]
    },
    {
      "cell_type": "code",
      "source": [
        "games=(\"cricket\",\"football\",\"chess\")\n",
        "count=games.count(\"chess\")\n",
        "print(count)"
      ],
      "metadata": {
        "id": "-1sXlpv0gVlu",
        "outputId": "059aa1b8-cbf0-41a7-e15c-02b916deb4a2",
        "colab": {
          "base_uri": "https://localhost:8080/"
        }
      },
      "execution_count": 22,
      "outputs": [
        {
          "output_type": "stream",
          "name": "stdout",
          "text": [
            "1\n"
          ]
        }
      ]
    },
    {
      "cell_type": "markdown",
      "source": [
        "  2. Index()"
      ],
      "metadata": {
        "id": "kQ_CbDRMhJ6y"
      }
    },
    {
      "cell_type": "code",
      "source": [
        "# returns the index of the first occurance\n",
        "numbers= (2,3,4,4,5,6,7,3,7,6,8,8)\n",
        "index = numbers.index(4)\n",
        "print(index)"
      ],
      "metadata": {
        "id": "905PKewIhOs_",
        "outputId": "9db1ffd4-40bc-48d8-e917-c55736078681",
        "colab": {
          "base_uri": "https://localhost:8080/"
        }
      },
      "execution_count": 25,
      "outputs": [
        {
          "output_type": "stream",
          "name": "stdout",
          "text": [
            "2\n"
          ]
        }
      ]
    },
    {
      "cell_type": "code",
      "source": [
        "strings = (\"banana\",\"orange\",\"guava\")\n",
        "index= strings.index(\"orange\")\n",
        "print(index)\n"
      ],
      "metadata": {
        "id": "TQXXwp1mh6Lg",
        "outputId": "d73289d3-3b94-4587-de04-0921abc98227",
        "colab": {
          "base_uri": "https://localhost:8080/"
        }
      },
      "execution_count": 29,
      "outputs": [
        {
          "output_type": "stream",
          "name": "stdout",
          "text": [
            "1\n"
          ]
        }
      ]
    },
    {
      "cell_type": "code",
      "source": [
        "games = (\"hockey\",\"cricket\",\"football\")\n",
        "index = games.index(\"cricket\")\n",
        "print(index)"
      ],
      "metadata": {
        "id": "BjsO2k4AirAk",
        "outputId": "3a948f6a-9ba2-4871-ad68-08aea94625c1",
        "colab": {
          "base_uri": "https://localhost:8080/"
        }
      },
      "execution_count": 3,
      "outputs": [
        {
          "output_type": "stream",
          "name": "stdout",
          "text": [
            "1\n"
          ]
        }
      ]
    }
  ]
}